{
 "cells": [
  {
   "cell_type": "markdown",
   "metadata": {},
   "source": [
    "https://www.kaggle.com/c/text-normalization-challenge-english-language"
   ]
  },
  {
   "cell_type": "markdown",
   "metadata": {
    "ExecuteTime": {
     "end_time": "2019-07-07T06:20:15.310026Z",
     "start_time": "2019-07-07T06:20:15.305038Z"
    }
   },
   "source": [
    "# Libraries"
   ]
  },
  {
   "cell_type": "code",
   "execution_count": 1,
   "metadata": {
    "ExecuteTime": {
     "end_time": "2019-07-07T07:17:04.797333Z",
     "start_time": "2019-07-07T07:16:57.266622Z"
    }
   },
   "outputs": [],
   "source": [
    "import numpy as np\n",
    "import pandas as pd\n",
    "import matplotlib.pyplot as plt\n",
    "import seaborn as sns"
   ]
  },
  {
   "cell_type": "code",
   "execution_count": 2,
   "metadata": {
    "ExecuteTime": {
     "end_time": "2019-07-07T07:17:04.839737Z",
     "start_time": "2019-07-07T07:17:04.801324Z"
    }
   },
   "outputs": [],
   "source": [
    "%matplotlib inline\n",
    "pd.options.display.max_columns = 20\n",
    "pd.options.display.max_colwidth = -1"
   ]
  },
  {
   "cell_type": "code",
   "execution_count": 3,
   "metadata": {
    "ExecuteTime": {
     "end_time": "2019-07-07T07:17:04.992328Z",
     "start_time": "2019-07-07T07:17:04.842726Z"
    }
   },
   "outputs": [],
   "source": [
    "from tqdm import tqdm\n",
    "from IPython.display import clear_output"
   ]
  },
  {
   "cell_type": "code",
   "execution_count": 4,
   "metadata": {
    "ExecuteTime": {
     "end_time": "2019-07-07T07:17:05.178827Z",
     "start_time": "2019-07-07T07:17:05.039201Z"
    }
   },
   "outputs": [],
   "source": [
    "from ipywidgets import interact"
   ]
  },
  {
   "cell_type": "code",
   "execution_count": 18,
   "metadata": {
    "ExecuteTime": {
     "end_time": "2019-07-07T07:31:35.870874Z",
     "start_time": "2019-07-07T07:31:35.864892Z"
    }
   },
   "outputs": [],
   "source": [
    "import inflect\n",
    "from num2words import num2words \n",
    "import re\n",
    "p = inflect.engine()"
   ]
  },
  {
   "cell_type": "markdown",
   "metadata": {},
   "source": [
    "# Data"
   ]
  },
  {
   "cell_type": "code",
   "execution_count": 6,
   "metadata": {
    "ExecuteTime": {
     "end_time": "2019-07-07T07:17:25.024662Z",
     "start_time": "2019-07-07T07:17:05.522907Z"
    }
   },
   "outputs": [],
   "source": [
    "data = pd.read_csv('../text-normalization-challenge-english-language/en_train.csv')"
   ]
  },
  {
   "cell_type": "code",
   "execution_count": 7,
   "metadata": {
    "ExecuteTime": {
     "end_time": "2019-07-07T07:17:25.083504Z",
     "start_time": "2019-07-07T07:17:25.059568Z"
    },
    "cell_style": "split"
   },
   "outputs": [
    {
     "data": {
      "text/html": [
       "<div>\n",
       "<style scoped>\n",
       "    .dataframe tbody tr th:only-of-type {\n",
       "        vertical-align: middle;\n",
       "    }\n",
       "\n",
       "    .dataframe tbody tr th {\n",
       "        vertical-align: top;\n",
       "    }\n",
       "\n",
       "    .dataframe thead th {\n",
       "        text-align: right;\n",
       "    }\n",
       "</style>\n",
       "<table border=\"1\" class=\"dataframe\">\n",
       "  <thead>\n",
       "    <tr style=\"text-align: right;\">\n",
       "      <th></th>\n",
       "      <th>sentence_id</th>\n",
       "      <th>token_id</th>\n",
       "      <th>class</th>\n",
       "      <th>before</th>\n",
       "      <th>after</th>\n",
       "    </tr>\n",
       "  </thead>\n",
       "  <tbody>\n",
       "    <tr>\n",
       "      <th>0</th>\n",
       "      <td>0</td>\n",
       "      <td>0</td>\n",
       "      <td>PLAIN</td>\n",
       "      <td>Brillantaisia</td>\n",
       "      <td>Brillantaisia</td>\n",
       "    </tr>\n",
       "    <tr>\n",
       "      <th>1</th>\n",
       "      <td>0</td>\n",
       "      <td>1</td>\n",
       "      <td>PLAIN</td>\n",
       "      <td>is</td>\n",
       "      <td>is</td>\n",
       "    </tr>\n",
       "    <tr>\n",
       "      <th>2</th>\n",
       "      <td>0</td>\n",
       "      <td>2</td>\n",
       "      <td>PLAIN</td>\n",
       "      <td>a</td>\n",
       "      <td>a</td>\n",
       "    </tr>\n",
       "    <tr>\n",
       "      <th>3</th>\n",
       "      <td>0</td>\n",
       "      <td>3</td>\n",
       "      <td>PLAIN</td>\n",
       "      <td>genus</td>\n",
       "      <td>genus</td>\n",
       "    </tr>\n",
       "    <tr>\n",
       "      <th>4</th>\n",
       "      <td>0</td>\n",
       "      <td>4</td>\n",
       "      <td>PLAIN</td>\n",
       "      <td>of</td>\n",
       "      <td>of</td>\n",
       "    </tr>\n",
       "  </tbody>\n",
       "</table>\n",
       "</div>"
      ],
      "text/plain": [
       "   sentence_id  token_id  class         before          after\n",
       "0  0            0         PLAIN  Brillantaisia  Brillantaisia\n",
       "1  0            1         PLAIN  is             is           \n",
       "2  0            2         PLAIN  a              a            \n",
       "3  0            3         PLAIN  genus          genus        \n",
       "4  0            4         PLAIN  of             of           "
      ]
     },
     "execution_count": 7,
     "metadata": {},
     "output_type": "execute_result"
    }
   ],
   "source": [
    "data.head()"
   ]
  },
  {
   "cell_type": "code",
   "execution_count": 8,
   "metadata": {
    "ExecuteTime": {
     "end_time": "2019-07-07T07:17:25.213157Z",
     "start_time": "2019-07-07T07:17:25.114422Z"
    },
    "cell_style": "split"
   },
   "outputs": [
    {
     "name": "stdout",
     "output_type": "stream",
     "text": [
      "(9918441, 5)\n",
      "<class 'pandas.core.frame.DataFrame'>\n",
      "RangeIndex: 9918441 entries, 0 to 9918440\n",
      "Data columns (total 5 columns):\n",
      "sentence_id    int64\n",
      "token_id       int64\n",
      "class          object\n",
      "before         object\n",
      "after          object\n",
      "dtypes: int64(2), object(3)\n",
      "memory usage: 378.4+ MB\n",
      "None\n"
     ]
    }
   ],
   "source": [
    "print(data.shape)\n",
    "print(data.info())"
   ]
  },
  {
   "cell_type": "markdown",
   "metadata": {},
   "source": [
    "# EDA"
   ]
  },
  {
   "cell_type": "markdown",
   "metadata": {
    "ExecuteTime": {
     "end_time": "2019-07-07T06:24:26.027999Z",
     "start_time": "2019-07-07T06:24:26.022015Z"
    },
    "cell_style": "center"
   },
   "source": [
    "**Class Distribution**"
   ]
  },
  {
   "cell_type": "code",
   "execution_count": 9,
   "metadata": {
    "ExecuteTime": {
     "end_time": "2019-07-07T07:17:27.659420Z",
     "start_time": "2019-07-07T07:17:25.248064Z"
    },
    "cell_style": "center"
   },
   "outputs": [
    {
     "data": {
      "image/png": "[encoded data removed]",
      "text/plain": [
       "<Figure size 1152x576 with 1 Axes>"
      ]
     },
     "metadata": {
      "needs_background": "light"
     },
     "output_type": "display_data"
    }
   ],
   "source": [
    "fig, ax = plt.subplots(ncols=1, nrows=1, figsize=(16,8))\n",
    "data['class'].value_counts().plot.bar()\n",
    "for p in ax.patches:\n",
    "    ax.annotate(str(p.get_height()), (p.get_x() * 1.005, p.get_height() * 1.01))"
   ]
  },
  {
   "cell_type": "markdown",
   "metadata": {
    "ExecuteTime": {
     "end_time": "2019-07-07T06:33:19.732449Z",
     "start_time": "2019-07-07T06:33:19.726466Z"
    }
   },
   "source": [
    "**Unchanged Columns**"
   ]
  },
  {
   "cell_type": "code",
   "execution_count": 10,
   "metadata": {
    "ExecuteTime": {
     "end_time": "2019-07-07T07:22:58.666792Z",
     "start_time": "2019-07-07T07:17:27.691335Z"
    }
   },
   "outputs": [
    {
     "name": "stderr",
     "output_type": "stream",
     "text": [
      "100%|█████████████████████████████████████████████████████████████████████| 9918441/9918441 [05:30<00:00, 30011.94it/s]\n"
     ]
    }
   ],
   "source": [
    "tqdm.pandas()\n",
    "data['Unchanged'] = data[['before', 'after']].progress_apply(lambda x: int(x['before'] == x['after']), axis=1)"
   ]
  },
  {
   "cell_type": "code",
   "execution_count": 11,
   "metadata": {
    "ExecuteTime": {
     "end_time": "2019-07-07T07:22:58.710675Z",
     "start_time": "2019-07-07T07:22:58.703695Z"
    }
   },
   "outputs": [],
   "source": [
    "unchanged = pd.DataFrame()"
   ]
  },
  {
   "cell_type": "code",
   "execution_count": 12,
   "metadata": {
    "ExecuteTime": {
     "end_time": "2019-07-07T07:23:18.691029Z",
     "start_time": "2019-07-07T07:22:58.714665Z"
    }
   },
   "outputs": [
    {
     "name": "stderr",
     "output_type": "stream",
     "text": [
      "100%|██████████████████████████████████████████████████████████████████████████████████| 16/16 [00:19<00:00,  1.10s/it]\n"
     ]
    }
   ],
   "source": [
    "for c in tqdm(data['class'].unique()):\n",
    "    x = data[data['class']==c]['Unchanged'].sum()\n",
    "    unchanged[c] = [x, 9918441-x, (100*x)/9918441]\n",
    "    unchanged[c] = unchanged[c].apply(lambda x : \"{:.2f}\".format(x))\n",
    "unchanged.index=['1', '0', '%']"
   ]
  },
  {
   "cell_type": "code",
   "execution_count": 13,
   "metadata": {
    "ExecuteTime": {
     "end_time": "2019-07-07T07:23:18.826180Z",
     "start_time": "2019-07-07T07:23:18.792755Z"
    }
   },
   "outputs": [
    {
     "data": {
      "text/html": [
       "<div>\n",
       "<style scoped>\n",
       "    .dataframe tbody tr th:only-of-type {\n",
       "        vertical-align: middle;\n",
       "    }\n",
       "\n",
       "    .dataframe tbody tr th {\n",
       "        vertical-align: top;\n",
       "    }\n",
       "\n",
       "    .dataframe thead th {\n",
       "        text-align: right;\n",
       "    }\n",
       "</style>\n",
       "<table border=\"1\" class=\"dataframe\">\n",
       "  <thead>\n",
       "    <tr style=\"text-align: right;\">\n",
       "      <th></th>\n",
       "      <th>PLAIN</th>\n",
       "      <th>PUNCT</th>\n",
       "      <th>DATE</th>\n",
       "      <th>LETTERS</th>\n",
       "      <th>CARDINAL</th>\n",
       "      <th>VERBATIM</th>\n",
       "      <th>DECIMAL</th>\n",
       "      <th>MEASURE</th>\n",
       "      <th>MONEY</th>\n",
       "      <th>ORDINAL</th>\n",
       "      <th>TIME</th>\n",
       "      <th>ELECTRONIC</th>\n",
       "      <th>DIGIT</th>\n",
       "      <th>FRACTION</th>\n",
       "      <th>TELEPHONE</th>\n",
       "      <th>ADDRESS</th>\n",
       "    </tr>\n",
       "  </thead>\n",
       "  <tbody>\n",
       "    <tr>\n",
       "      <th>1</th>\n",
       "      <td>7317152.00</td>\n",
       "      <td>1880507.00</td>\n",
       "      <td>0.00</td>\n",
       "      <td>8426.00</td>\n",
       "      <td>0.00</td>\n",
       "      <td>52271.00</td>\n",
       "      <td>0.00</td>\n",
       "      <td>22.00</td>\n",
       "      <td>3.00</td>\n",
       "      <td>0.00</td>\n",
       "      <td>0.00</td>\n",
       "      <td>198.00</td>\n",
       "      <td>0.00</td>\n",
       "      <td>0.00</td>\n",
       "      <td>0.00</td>\n",
       "      <td>0.00</td>\n",
       "    </tr>\n",
       "    <tr>\n",
       "      <th>0</th>\n",
       "      <td>2601289.00</td>\n",
       "      <td>8037934.00</td>\n",
       "      <td>9918441.00</td>\n",
       "      <td>9910015.00</td>\n",
       "      <td>9918441.00</td>\n",
       "      <td>9866170.00</td>\n",
       "      <td>9918441.00</td>\n",
       "      <td>9918419.00</td>\n",
       "      <td>9918438.00</td>\n",
       "      <td>9918441.00</td>\n",
       "      <td>9918441.00</td>\n",
       "      <td>9918243.00</td>\n",
       "      <td>9918441.00</td>\n",
       "      <td>9918441.00</td>\n",
       "      <td>9918441.00</td>\n",
       "      <td>9918441.00</td>\n",
       "    </tr>\n",
       "    <tr>\n",
       "      <th>%</th>\n",
       "      <td>73.77</td>\n",
       "      <td>18.96</td>\n",
       "      <td>0.00</td>\n",
       "      <td>0.08</td>\n",
       "      <td>0.00</td>\n",
       "      <td>0.53</td>\n",
       "      <td>0.00</td>\n",
       "      <td>0.00</td>\n",
       "      <td>0.00</td>\n",
       "      <td>0.00</td>\n",
       "      <td>0.00</td>\n",
       "      <td>0.00</td>\n",
       "      <td>0.00</td>\n",
       "      <td>0.00</td>\n",
       "      <td>0.00</td>\n",
       "      <td>0.00</td>\n",
       "    </tr>\n",
       "  </tbody>\n",
       "</table>\n",
       "</div>"
      ],
      "text/plain": [
       "        PLAIN       PUNCT        DATE     LETTERS    CARDINAL    VERBATIM  \\\n",
       "1  7317152.00  1880507.00  0.00        8426.00     0.00        52271.00     \n",
       "0  2601289.00  8037934.00  9918441.00  9910015.00  9918441.00  9866170.00   \n",
       "%  73.77       18.96       0.00        0.08        0.00        0.53         \n",
       "\n",
       "      DECIMAL     MEASURE       MONEY     ORDINAL        TIME  ELECTRONIC  \\\n",
       "1  0.00        22.00       3.00        0.00        0.00        198.00       \n",
       "0  9918441.00  9918419.00  9918438.00  9918441.00  9918441.00  9918243.00   \n",
       "%  0.00        0.00        0.00        0.00        0.00        0.00         \n",
       "\n",
       "        DIGIT    FRACTION   TELEPHONE     ADDRESS  \n",
       "1  0.00        0.00        0.00        0.00        \n",
       "0  9918441.00  9918441.00  9918441.00  9918441.00  \n",
       "%  0.00        0.00        0.00        0.00        "
      ]
     },
     "execution_count": 13,
     "metadata": {},
     "output_type": "execute_result"
    }
   ],
   "source": [
    "unchanged.head()"
   ]
  },
  {
   "cell_type": "markdown",
   "metadata": {},
   "source": [
    "**Classes**"
   ]
  },
  {
   "cell_type": "code",
   "execution_count": 15,
   "metadata": {
    "ExecuteTime": {
     "end_time": "2019-07-07T07:23:27.794983Z",
     "start_time": "2019-07-07T07:23:24.908152Z"
    }
   },
   "outputs": [
    {
     "data": {
      "application/vnd.jupyter.widget-view+json": {
       "model_id": "671a8ed3d80f4e839c88e99e8f16e086",
       "version_major": 2,
       "version_minor": 0
      },
      "text/plain": [
       "interactive(children=(Dropdown(description='c', options=('PLAIN', 'PUNCT', 'DATE', 'LETTERS', 'CARDINAL', 'VER…"
      ]
     },
     "metadata": {},
     "output_type": "display_data"
    }
   ],
   "source": [
    "@interact\n",
    "def sneak(c=data['class'].unique()):\n",
    "    return data[data['class'] == c][['before', 'after']].head()"
   ]
  },
  {
   "cell_type": "markdown",
   "metadata": {},
   "source": [
    "# Class Wise Regex"
   ]
  },
  {
   "cell_type": "code",
   "execution_count": 69,
   "metadata": {
    "ExecuteTime": {
     "end_time": "2019-07-07T08:41:15.179307Z",
     "start_time": "2019-07-07T08:41:14.246655Z"
    }
   },
   "outputs": [
    {
     "name": "stdout",
     "output_type": "stream",
     "text": [
      "['ADDRESS', 'CARDINAL', 'DATE', 'DECIMAL', 'DIGIT', 'ELECTRONIC', 'FRACTION', 'LETTERS', 'MEASURE', 'MONEY', 'ORDINAL', 'PLAIN', 'PUNCT', 'TELEPHONE', 'TIME', 'VERBATIM'] 16\n"
     ]
    }
   ],
   "source": [
    "print(sorted(data['class'].unique()), len(data['class'].unique()))"
   ]
  },
  {
   "cell_type": "markdown",
   "metadata": {},
   "source": [
    "**Address**"
   ]
  },
  {
   "cell_type": "code",
   "execution_count": 71,
   "metadata": {
    "ExecuteTime": {
     "end_time": "2019-07-07T08:41:39.306233Z",
     "start_time": "2019-07-07T08:41:39.296260Z"
    }
   },
   "outputs": [],
   "source": [
    "def address(x):\n",
    "    try:\n",
    "        x = re.sub('[^0-9a-zA-Z]+', '', x)\n",
    "        result_string = ''\n",
    "        for i in range(0,len(x)):\n",
    "            if re.match('[A-Z]|[a-z]',x[i]):\n",
    "                result_string = result_string + plain(x[i]).lower() + ' '\n",
    "            else:\n",
    "                result_string = result_string + cardinal(x[i]) + ' '\n",
    "                \n",
    "        return(result_string.strip())        \n",
    "    except:    \n",
    "        return(x) "
   ]
  },
  {
   "cell_type": "code",
   "execution_count": 72,
   "metadata": {
    "ExecuteTime": {
     "end_time": "2019-07-07T08:42:18.589499Z",
     "start_time": "2019-07-07T08:42:16.283763Z"
    }
   },
   "outputs": [],
   "source": [
    "address_ = pd.DataFrame()\n",
    "\n",
    "address_['x'] = data[data['class'] == 'ADDRESS']['before'].values\n",
    "address_['y_actual'] = data[data['class'] == 'ADDRESS']['after'].values\n",
    "address_['y_pred'] = address_['x'].apply(address)"
   ]
  },
  {
   "cell_type": "code",
   "execution_count": 73,
   "metadata": {
    "ExecuteTime": {
     "end_time": "2019-07-07T08:42:34.539164Z",
     "start_time": "2019-07-07T08:42:34.494277Z"
    }
   },
   "outputs": [
    {
     "name": "stdout",
     "output_type": "stream",
     "text": [
      "0 522 0.0\n"
     ]
    }
   ],
   "source": [
    "correct_count = 0\n",
    "incorrect = []\n",
    "for i in range(len(address_)):\n",
    "    if address_['y_pred'][i] == address_['y_actual'][i]:\n",
    "        correct_count += 1\n",
    "    else:\n",
    "        incorrect.append(i)\n",
    "\n",
    "print(correct_count, len(address_), correct_count/len(address_)*100)"
   ]
  },
  {
   "cell_type": "markdown",
   "metadata": {
    "ExecuteTime": {
     "end_time": "2019-07-07T07:25:03.549566Z",
     "start_time": "2019-07-07T07:25:03.544570Z"
    }
   },
   "source": [
    "**Cardinal**"
   ]
  },
  {
   "cell_type": "code",
   "execution_count": 36,
   "metadata": {
    "ExecuteTime": {
     "end_time": "2019-07-07T08:30:08.363417Z",
     "start_time": "2019-07-07T08:30:08.352445Z"
    }
   },
   "outputs": [],
   "source": [
    "def cardinal(x):\n",
    "    try:\n",
    "        if re.match('.*[A-Za-z]+.*', x):\n",
    "            return x\n",
    "        x = re.sub(',', '', x)#, count = 10)\n",
    "\n",
    "        if(re.match('.+\\..*', x)):\n",
    "            x = p.number_to_words(float(x))\n",
    "        elif re.match('\\..*', x): \n",
    "            x = p.number_to_words(float(x))\n",
    "            x = x.replace('zero ', '', 1)\n",
    "        else:\n",
    "            x = p.number_to_words(int(x))\n",
    "        x = x.replace('zero', 'o')    \n",
    "        x = re.sub('-', ' ', x)#, count=10)\n",
    "        x = re.sub(' and','',x)#, count = 10)\n",
    "        x = re.sub(',', '', x)\n",
    "        return x\n",
    "    except:\n",
    "        return x"
   ]
  },
  {
   "cell_type": "code",
   "execution_count": 37,
   "metadata": {
    "ExecuteTime": {
     "end_time": "2019-07-07T08:30:08.862376Z",
     "start_time": "2019-07-07T08:30:08.857389Z"
    }
   },
   "outputs": [],
   "source": [
    "cardinal_ = pd.DataFrame()\n",
    "\n",
    "cardinal_['x'] = data[data['class'] == 'CARDINAL']['before'].values\n",
    "cardinal_['y_actual'] = data[data['class'] == 'CARDINAL']['after'].values\n",
    "cardinal_['y_pred'] = cardinal_['x'].apply(cardinal)"
   ]
  },
  {
   "cell_type": "code",
   "execution_count": 40,
   "metadata": {
    "ExecuteTime": {
     "end_time": "2019-07-07T08:32:16.868414Z",
     "start_time": "2019-07-07T08:32:12.440618Z"
    }
   },
   "outputs": [],
   "source": [
    "correct_count = 0\n",
    "incorrect = []\n",
    "for i in range(len(cardinal_)):\n",
    "    if cardinal_['y_pred'][i] == cardinal_['y_actual'][i]:\n",
    "        correct_count += 1\n",
    "    else:\n",
    "        incorrect.append(i)\n",
    "\n",
    "print(correct_count, len(cardinal_), correct_count/len(cardinal_)*100)"
   ]
  },
  {
   "cell_type": "markdown",
   "metadata": {},
   "source": [
    "**Date**"
   ]
  },
  {
   "cell_type": "code",
   "execution_count": 75,
   "metadata": {
    "ExecuteTime": {
     "end_time": "2019-07-07T08:48:12.633367Z",
     "start_time": "2019-07-07T08:48:12.574523Z"
    }
   },
   "outputs": [],
   "source": [
    "def date(key):\n",
    "    dict_mon = {'jan': \"January\", \"feb\": \"February\", \"mar \": \"march\", \"apr\": \"april\", \"may\": \"may \",\"jun\": \"june\", \"jul\": \"july\", \"aug\": \"august\",\"sep\": \"september\",\n",
    "            \"oct\": \"october\",\"nov\": \"november\",\"dec\": \"december\", \"january\":\"January\", \"february\":\"February\", \"march\":\"march\",\"april\":\"april\", \"may\": \"may\", \n",
    "            \"june\":\"june\",\"july\":\"july\", \"august\":\"august\", \"september\":\"september\", \"october\":\"october\", \"november\":\"november\", \"december\":\"december\"}\n",
    "\n",
    "    v =  key.split('-')\n",
    "    if len(v)==3:\n",
    "        if v[1].isdigit():\n",
    "            try:\n",
    "                date = datetime.strptime(key , '%Y-%m-%d')\n",
    "                text = 'the '+ p.ordinal(p.number_to_words(int(v[2]))).replace('-',' ')+' of '+datetime.date(date).strftime('%B')\n",
    "                if int(v[0])>=2000 and int(v[0]) < 2010:\n",
    "                    text = text  + ' '+digit2word(v[0])\n",
    "                else: \n",
    "                    text = text + ' ' + digit2word(v[0][0:2]) + ' ' + digit2word(v[0][2:])\n",
    "            except:\n",
    "                text = key\n",
    "            return text.lower()    \n",
    "    else:   \n",
    "        v = re.sub(r'[^\\w]', ' ', key).split()\n",
    "        if v[0].isalpha():\n",
    "            try:\n",
    "                if len(v)==3:\n",
    "                    text = dict_mon[v[0].lower()] + ' '+ p.ordinal(p.number_to_words(int(v[1]))).replace('-',' ')\n",
    "                    if int(v[2])>=2000 and int(v[2]) < 2010:\n",
    "                        text = text  + ' '+digit2word(v[2])\n",
    "                    else: \n",
    "                        text = text + ' ' + digit2word(v[2][0:2]) + ' ' + digit2word(v[2][2:])   \n",
    "                elif len(v)==2:\n",
    "\n",
    "                    if int(v[1])>=2000 and int(v[1]) < 2010:\n",
    "                        text = dict_mon[v[0].lower()]  + ' '+ digit2word(v[1])\n",
    "                    else: \n",
    "                        if len(v[1]) <=2:\n",
    "                            text = dict_mon[v[0].lower()] + ' ' + digit2word(v[1])\n",
    "                        else:\n",
    "                            text = dict_mon[v[0].lower()] + ' ' + digit2word(v[1][0:2]) + ' ' + digit2word(v[1][2:])\n",
    "                else: text = key\n",
    "            except: text = key\n",
    "            return text.lower()\n",
    "        else: \n",
    "            key = re.sub(r'[^\\w]', ' ', key)\n",
    "            v = key.split()\n",
    "            try:\n",
    "                date = datetime.strptime(key , '%d %b %Y')\n",
    "                text = 'the '+ p.ordinal(p.number_to_words(int(v[0]))).replace('-',' ')+' of '+ dict_mon[v[1].lower()]\n",
    "                if int(v[2])>=2000 and int(v[2]) < 2010:\n",
    "                    text = text  + ' '+digit2word(v[2])\n",
    "                else: \n",
    "                    text = text + ' ' + digit2word(v[2][0:2]) + ' ' + digit2word(v[2][2:])\n",
    "            except:\n",
    "                try:\n",
    "                    date = datetime.strptime(key , '%d %B %Y')\n",
    "                    text = 'the '+ p.ordinal(p.number_to_words(int(v[0]))).replace('-',' ')+' of '+ dict_mon[v[1].lower()]\n",
    "                    if int(v[2])>=2000 and int(v[2]) < 2010:\n",
    "                        text = text  + ' '+digit2word(v[2])\n",
    "                    else: \n",
    "                        text = text + ' ' + digit2word(v[2][0:2]) + ' ' + digit2word(v[2][2:])\n",
    "                except:\n",
    "                    try:\n",
    "                        date = datetime.strptime(key , '%d %m %Y')\n",
    "                        text = 'the '+ p.ordinal(p.number_to_words(int(v[0]))).replace('-',' ')+' of '+datetime.date(date).strftime('%B')\n",
    "                        if int(v[2])>=2000 and int(v[2]) < 2010:\n",
    "                            text = text  + ' '+digit2word(v[2])\n",
    "                        else: \n",
    "                            text = text + ' ' + digit2word(v[2][0:2]) + ' ' + digit2word(v[2][2:])\n",
    "                    except:\n",
    "                        try:\n",
    "                            date = datetime.strptime(key , '%d %m %y')\n",
    "                            text = 'the '+ p.ordinal(p.number_to_words(int(v[0]))).replace('-',' ')+' of '+datetime.date(date).strftime('%B')\n",
    "                            v[2] = datetime.date(date).strftime('%Y')\n",
    "                            if int(v[2])>=2000 and int(v[2]) < 2010:\n",
    "                                text = text  + ' '+digit2word(v[2])\n",
    "                            else: \n",
    "                                text = text + ' ' + digit2word(v[2][0:2]) + ' ' + digit2word(v[2][2:])\n",
    "                        except:text = key\n",
    "            return text.lower()"
   ]
  },
  {
   "cell_type": "code",
   "execution_count": 77,
   "metadata": {
    "ExecuteTime": {
     "end_time": "2019-07-07T08:49:13.073867Z",
     "start_time": "2019-07-07T08:49:06.617596Z"
    }
   },
   "outputs": [],
   "source": [
    "date_ = pd.DataFrame()\n",
    "\n",
    "date_['x'] = data[data['class'] == 'DATE']['before'].values\n",
    "date_['y_actual'] = data[data['class'] == 'DATE']['after'].values\n",
    "date_['y_pred'] = date_['x'].apply(date)"
   ]
  },
  {
   "cell_type": "code",
   "execution_count": 78,
   "metadata": {
    "ExecuteTime": {
     "end_time": "2019-07-07T08:49:13.525125Z",
     "start_time": "2019-07-07T08:49:13.265355Z"
    }
   },
   "outputs": [
    {
     "name": "stdout",
     "output_type": "stream",
     "text": [
      "0 258348 0.0\n"
     ]
    }
   ],
   "source": [
    "correct_count = 0\n",
    "incorrect = []\n",
    "for i in range(len(digit_)):\n",
    "    if date_['y_pred'][i] == date_['y_actual'][i]:\n",
    "        correct_count += 1\n",
    "    else:\n",
    "        incorrect.append(i)\n",
    "\n",
    "print(correct_count, len(date_), correct_count/len(date_)*100)"
   ]
  },
  {
   "cell_type": "markdown",
   "metadata": {
    "ExecuteTime": {
     "end_time": "2019-07-07T08:50:44.997917Z",
     "start_time": "2019-07-07T08:50:44.990937Z"
    }
   },
   "source": [
    "**Decimal**"
   ]
  },
  {
   "cell_type": "code",
   "execution_count": 81,
   "metadata": {
    "ExecuteTime": {
     "end_time": "2019-07-07T08:51:33.992968Z",
     "start_time": "2019-07-07T08:51:33.986986Z"
    }
   },
   "outputs": [],
   "source": [
    "def decimal(x):\n",
    "    x = float(x.replace(',',''))\n",
    "    x = p.number_to_words(x,decimal='point',andword='', zero='o')\n",
    "    if 'o' == x.split()[0]:\n",
    "        x = x[2:]\n",
    "    x = x.replace('-',' ').replace(',','')\n",
    "    return x.lower()"
   ]
  },
  {
   "cell_type": "code",
   "execution_count": 85,
   "metadata": {
    "ExecuteTime": {
     "end_time": "2019-07-07T08:52:52.962308Z",
     "start_time": "2019-07-07T08:52:50.542424Z"
    }
   },
   "outputs": [
    {
     "ename": "ValueError",
     "evalue": "could not convert string to float: '1.7 million'",
     "output_type": "error",
     "traceback": [
      "\u001b[1;31m---------------------------------------------------------------------------\u001b[0m",
      "\u001b[1;31mValueError\u001b[0m                                Traceback (most recent call last)",
      "\u001b[1;32m<ipython-input-85-cacefd6b3887>\u001b[0m in \u001b[0;36m<module>\u001b[1;34m\u001b[0m\n\u001b[0;32m      3\u001b[0m \u001b[0mdecimal_\u001b[0m\u001b[1;33m[\u001b[0m\u001b[1;34m'x'\u001b[0m\u001b[1;33m]\u001b[0m \u001b[1;33m=\u001b[0m \u001b[0mdata\u001b[0m\u001b[1;33m[\u001b[0m\u001b[0mdata\u001b[0m\u001b[1;33m[\u001b[0m\u001b[1;34m'class'\u001b[0m\u001b[1;33m]\u001b[0m \u001b[1;33m==\u001b[0m \u001b[1;34m'DECIMAL'\u001b[0m\u001b[1;33m]\u001b[0m\u001b[1;33m[\u001b[0m\u001b[1;34m'before'\u001b[0m\u001b[1;33m]\u001b[0m\u001b[1;33m.\u001b[0m\u001b[0mvalues\u001b[0m\u001b[1;33m\u001b[0m\u001b[1;33m\u001b[0m\u001b[0m\n\u001b[0;32m      4\u001b[0m \u001b[0mdecimal_\u001b[0m\u001b[1;33m[\u001b[0m\u001b[1;34m'y_actual'\u001b[0m\u001b[1;33m]\u001b[0m \u001b[1;33m=\u001b[0m \u001b[0mdata\u001b[0m\u001b[1;33m[\u001b[0m\u001b[0mdata\u001b[0m\u001b[1;33m[\u001b[0m\u001b[1;34m'class'\u001b[0m\u001b[1;33m]\u001b[0m \u001b[1;33m==\u001b[0m \u001b[1;34m'DECIMAL'\u001b[0m\u001b[1;33m]\u001b[0m\u001b[1;33m[\u001b[0m\u001b[1;34m'after'\u001b[0m\u001b[1;33m]\u001b[0m\u001b[1;33m.\u001b[0m\u001b[0mvalues\u001b[0m\u001b[1;33m\u001b[0m\u001b[1;33m\u001b[0m\u001b[0m\n\u001b[1;32m----> 5\u001b[1;33m \u001b[0mdecimal_\u001b[0m\u001b[1;33m[\u001b[0m\u001b[1;34m'y_pred'\u001b[0m\u001b[1;33m]\u001b[0m \u001b[1;33m=\u001b[0m \u001b[0mdecimal_\u001b[0m\u001b[1;33m[\u001b[0m\u001b[1;34m'x'\u001b[0m\u001b[1;33m]\u001b[0m\u001b[1;33m.\u001b[0m\u001b[0mapply\u001b[0m\u001b[1;33m(\u001b[0m\u001b[0mdecimal\u001b[0m\u001b[1;33m)\u001b[0m\u001b[1;33m\u001b[0m\u001b[1;33m\u001b[0m\u001b[0m\n\u001b[0m",
      "\u001b[1;32mD:\\Users\\Ritvik\\Anaconda3\\envs\\datascience\\lib\\site-packages\\pandas\\core\\series.py\u001b[0m in \u001b[0;36mapply\u001b[1;34m(self, func, convert_dtype, args, **kwds)\u001b[0m\n\u001b[0;32m   3192\u001b[0m             \u001b[1;32melse\u001b[0m\u001b[1;33m:\u001b[0m\u001b[1;33m\u001b[0m\u001b[1;33m\u001b[0m\u001b[0m\n\u001b[0;32m   3193\u001b[0m                 \u001b[0mvalues\u001b[0m \u001b[1;33m=\u001b[0m \u001b[0mself\u001b[0m\u001b[1;33m.\u001b[0m\u001b[0mastype\u001b[0m\u001b[1;33m(\u001b[0m\u001b[0mobject\u001b[0m\u001b[1;33m)\u001b[0m\u001b[1;33m.\u001b[0m\u001b[0mvalues\u001b[0m\u001b[1;33m\u001b[0m\u001b[1;33m\u001b[0m\u001b[0m\n\u001b[1;32m-> 3194\u001b[1;33m                 \u001b[0mmapped\u001b[0m \u001b[1;33m=\u001b[0m \u001b[0mlib\u001b[0m\u001b[1;33m.\u001b[0m\u001b[0mmap_infer\u001b[0m\u001b[1;33m(\u001b[0m\u001b[0mvalues\u001b[0m\u001b[1;33m,\u001b[0m \u001b[0mf\u001b[0m\u001b[1;33m,\u001b[0m \u001b[0mconvert\u001b[0m\u001b[1;33m=\u001b[0m\u001b[0mconvert_dtype\u001b[0m\u001b[1;33m)\u001b[0m\u001b[1;33m\u001b[0m\u001b[1;33m\u001b[0m\u001b[0m\n\u001b[0m\u001b[0;32m   3195\u001b[0m \u001b[1;33m\u001b[0m\u001b[0m\n\u001b[0;32m   3196\u001b[0m         \u001b[1;32mif\u001b[0m \u001b[0mlen\u001b[0m\u001b[1;33m(\u001b[0m\u001b[0mmapped\u001b[0m\u001b[1;33m)\u001b[0m \u001b[1;32mand\u001b[0m \u001b[0misinstance\u001b[0m\u001b[1;33m(\u001b[0m\u001b[0mmapped\u001b[0m\u001b[1;33m[\u001b[0m\u001b[1;36m0\u001b[0m\u001b[1;33m]\u001b[0m\u001b[1;33m,\u001b[0m \u001b[0mSeries\u001b[0m\u001b[1;33m)\u001b[0m\u001b[1;33m:\u001b[0m\u001b[1;33m\u001b[0m\u001b[1;33m\u001b[0m\u001b[0m\n",
      "\u001b[1;32mpandas/_libs/src\\inference.pyx\u001b[0m in \u001b[0;36mpandas._libs.lib.map_infer\u001b[1;34m()\u001b[0m\n",
      "\u001b[1;32m<ipython-input-81-31d73aa627f4>\u001b[0m in \u001b[0;36mdecimal\u001b[1;34m(x)\u001b[0m\n\u001b[0;32m      1\u001b[0m \u001b[1;32mdef\u001b[0m \u001b[0mdecimal\u001b[0m\u001b[1;33m(\u001b[0m\u001b[0mx\u001b[0m\u001b[1;33m)\u001b[0m\u001b[1;33m:\u001b[0m\u001b[1;33m\u001b[0m\u001b[1;33m\u001b[0m\u001b[0m\n\u001b[1;32m----> 2\u001b[1;33m     \u001b[0mx\u001b[0m \u001b[1;33m=\u001b[0m \u001b[0mfloat\u001b[0m\u001b[1;33m(\u001b[0m\u001b[0mx\u001b[0m\u001b[1;33m.\u001b[0m\u001b[0mreplace\u001b[0m\u001b[1;33m(\u001b[0m\u001b[1;34m','\u001b[0m\u001b[1;33m,\u001b[0m\u001b[1;34m''\u001b[0m\u001b[1;33m)\u001b[0m\u001b[1;33m)\u001b[0m\u001b[1;33m\u001b[0m\u001b[1;33m\u001b[0m\u001b[0m\n\u001b[0m\u001b[0;32m      3\u001b[0m     \u001b[0mx\u001b[0m \u001b[1;33m=\u001b[0m \u001b[0mp\u001b[0m\u001b[1;33m.\u001b[0m\u001b[0mnumber_to_words\u001b[0m\u001b[1;33m(\u001b[0m\u001b[0mx\u001b[0m\u001b[1;33m,\u001b[0m\u001b[0mdecimal\u001b[0m\u001b[1;33m=\u001b[0m\u001b[1;34m'point'\u001b[0m\u001b[1;33m,\u001b[0m\u001b[0mandword\u001b[0m\u001b[1;33m=\u001b[0m\u001b[1;34m''\u001b[0m\u001b[1;33m,\u001b[0m \u001b[0mzero\u001b[0m\u001b[1;33m=\u001b[0m\u001b[1;34m'o'\u001b[0m\u001b[1;33m)\u001b[0m\u001b[1;33m\u001b[0m\u001b[1;33m\u001b[0m\u001b[0m\n\u001b[0;32m      4\u001b[0m     \u001b[1;32mif\u001b[0m \u001b[1;34m'o'\u001b[0m \u001b[1;33m==\u001b[0m \u001b[0mx\u001b[0m\u001b[1;33m.\u001b[0m\u001b[0msplit\u001b[0m\u001b[1;33m(\u001b[0m\u001b[1;33m)\u001b[0m\u001b[1;33m[\u001b[0m\u001b[1;36m0\u001b[0m\u001b[1;33m]\u001b[0m\u001b[1;33m:\u001b[0m\u001b[1;33m\u001b[0m\u001b[1;33m\u001b[0m\u001b[0m\n\u001b[0;32m      5\u001b[0m         \u001b[0mx\u001b[0m \u001b[1;33m=\u001b[0m \u001b[0mx\u001b[0m\u001b[1;33m[\u001b[0m\u001b[1;36m2\u001b[0m\u001b[1;33m:\u001b[0m\u001b[1;33m]\u001b[0m\u001b[1;33m\u001b[0m\u001b[1;33m\u001b[0m\u001b[0m\n",
      "\u001b[1;31mValueError\u001b[0m: could not convert string to float: '1.7 million'"
     ]
    }
   ],
   "source": [
    "decimal_ = pd.DataFrame()\n",
    "\n",
    "decimal_['x'] = data[data['class'] == 'DECIMAL']['before'].values\n",
    "decimal_['y_actual'] = data[data['class'] == 'DECIMAL']['after'].values\n",
    "decimal_['y_pred'] = decimal_['x'].apply(decimal)"
   ]
  },
  {
   "cell_type": "code",
   "execution_count": null,
   "metadata": {
    "ExecuteTime": {
     "end_time": "2019-07-07T08:52:52.971287Z",
     "start_time": "2019-07-07T08:52:50.763Z"
    }
   },
   "outputs": [],
   "source": [
    "correct_count = 0\n",
    "incorrect = []\n",
    "for i in range(len(digit_)):\n",
    "    if decimal_['y_pred'][i] == decimal_['y_actual'][i]:\n",
    "        correct_count += 1\n",
    "    else:\n",
    "        incorrect.append(i)\n",
    "\n",
    "print(correct_count, len(decimal_), correct_count/len(decimal_)*100)"
   ]
  },
  {
   "cell_type": "code",
   "execution_count": 84,
   "metadata": {
    "ExecuteTime": {
     "end_time": "2019-07-07T08:52:34.174589Z",
     "start_time": "2019-07-07T08:52:34.139682Z"
    }
   },
   "outputs": [
    {
     "data": {
      "text/html": [
       "<div>\n",
       "<style scoped>\n",
       "    .dataframe tbody tr th:only-of-type {\n",
       "        vertical-align: middle;\n",
       "    }\n",
       "\n",
       "    .dataframe tbody tr th {\n",
       "        vertical-align: top;\n",
       "    }\n",
       "\n",
       "    .dataframe thead th {\n",
       "        text-align: right;\n",
       "    }\n",
       "</style>\n",
       "<table border=\"1\" class=\"dataframe\">\n",
       "  <thead>\n",
       "    <tr style=\"text-align: right;\">\n",
       "      <th></th>\n",
       "      <th>x</th>\n",
       "      <th>y_actual</th>\n",
       "      <th>y_pred</th>\n",
       "    </tr>\n",
       "  </thead>\n",
       "  <tbody>\n",
       "    <tr>\n",
       "      <th>0</th>\n",
       "      <td>.161</td>\n",
       "      <td>point one six one</td>\n",
       "      <td>161</td>\n",
       "    </tr>\n",
       "    <tr>\n",
       "      <th>1</th>\n",
       "      <td>.6</td>\n",
       "      <td>point six</td>\n",
       "      <td>6</td>\n",
       "    </tr>\n",
       "    <tr>\n",
       "      <th>2</th>\n",
       "      <td>1.6</td>\n",
       "      <td>one point six</td>\n",
       "      <td>1 6</td>\n",
       "    </tr>\n",
       "    <tr>\n",
       "      <th>3</th>\n",
       "      <td>.267</td>\n",
       "      <td>point two six seven</td>\n",
       "      <td>267</td>\n",
       "    </tr>\n",
       "    <tr>\n",
       "      <th>4</th>\n",
       "      <td>.266</td>\n",
       "      <td>point two six six</td>\n",
       "      <td>266</td>\n",
       "    </tr>\n",
       "    <tr>\n",
       "      <th>5</th>\n",
       "      <td>.13</td>\n",
       "      <td>point one three</td>\n",
       "      <td>13</td>\n",
       "    </tr>\n",
       "    <tr>\n",
       "      <th>6</th>\n",
       "      <td>108.5</td>\n",
       "      <td>one hundred eight point five</td>\n",
       "      <td>108 5</td>\n",
       "    </tr>\n",
       "    <tr>\n",
       "      <th>7</th>\n",
       "      <td>.70</td>\n",
       "      <td>point seven o</td>\n",
       "      <td>70</td>\n",
       "    </tr>\n",
       "    <tr>\n",
       "      <th>8</th>\n",
       "      <td>1.7 million</td>\n",
       "      <td>one point seven million</td>\n",
       "      <td>1 7 million</td>\n",
       "    </tr>\n",
       "    <tr>\n",
       "      <th>9</th>\n",
       "      <td>2.42</td>\n",
       "      <td>two point four two</td>\n",
       "      <td>2 42</td>\n",
       "    </tr>\n",
       "    <tr>\n",
       "      <th>10</th>\n",
       "      <td>3.08</td>\n",
       "      <td>three point o eight</td>\n",
       "      <td>3 08</td>\n",
       "    </tr>\n",
       "    <tr>\n",
       "      <th>11</th>\n",
       "      <td>1,495.6</td>\n",
       "      <td>one thousand four hundred ninety five point six</td>\n",
       "      <td>1 495 6</td>\n",
       "    </tr>\n",
       "    <tr>\n",
       "      <th>12</th>\n",
       "      <td>2.93</td>\n",
       "      <td>two point nine three</td>\n",
       "      <td>2 93</td>\n",
       "    </tr>\n",
       "    <tr>\n",
       "      <th>13</th>\n",
       "      <td>3.28</td>\n",
       "      <td>three point two eight</td>\n",
       "      <td>3 28</td>\n",
       "    </tr>\n",
       "    <tr>\n",
       "      <th>14</th>\n",
       "      <td>1,195.9</td>\n",
       "      <td>one thousand one hundred ninety five point nine</td>\n",
       "      <td>1 195 9</td>\n",
       "    </tr>\n",
       "    <tr>\n",
       "      <th>15</th>\n",
       "      <td>550.8</td>\n",
       "      <td>five hundred fifty point eight</td>\n",
       "      <td>550 8</td>\n",
       "    </tr>\n",
       "    <tr>\n",
       "      <th>16</th>\n",
       "      <td>27.13</td>\n",
       "      <td>twenty seven point one three</td>\n",
       "      <td>27 13</td>\n",
       "    </tr>\n",
       "    <tr>\n",
       "      <th>17</th>\n",
       "      <td>11.4</td>\n",
       "      <td>eleven point four</td>\n",
       "      <td>11 4</td>\n",
       "    </tr>\n",
       "    <tr>\n",
       "      <th>18</th>\n",
       "      <td>.178</td>\n",
       "      <td>point one seven eight</td>\n",
       "      <td>178</td>\n",
       "    </tr>\n",
       "    <tr>\n",
       "      <th>19</th>\n",
       "      <td>.43</td>\n",
       "      <td>point four three</td>\n",
       "      <td>43</td>\n",
       "    </tr>\n",
       "    <tr>\n",
       "      <th>20</th>\n",
       "      <td>95.7</td>\n",
       "      <td>ninety five point seven</td>\n",
       "      <td>95 7</td>\n",
       "    </tr>\n",
       "    <tr>\n",
       "      <th>21</th>\n",
       "      <td>80.6</td>\n",
       "      <td>eighty point six</td>\n",
       "      <td>80 6</td>\n",
       "    </tr>\n",
       "    <tr>\n",
       "      <th>22</th>\n",
       "      <td>8.5</td>\n",
       "      <td>eight point five</td>\n",
       "      <td>8 5</td>\n",
       "    </tr>\n",
       "    <tr>\n",
       "      <th>23</th>\n",
       "      <td>2.56</td>\n",
       "      <td>two point five six</td>\n",
       "      <td>2 56</td>\n",
       "    </tr>\n",
       "    <tr>\n",
       "      <th>24</th>\n",
       "      <td>3.00</td>\n",
       "      <td>three point o o</td>\n",
       "      <td>3 00</td>\n",
       "    </tr>\n",
       "    <tr>\n",
       "      <th>25</th>\n",
       "      <td>2.55</td>\n",
       "      <td>two point five five</td>\n",
       "      <td>2 55</td>\n",
       "    </tr>\n",
       "    <tr>\n",
       "      <th>26</th>\n",
       "      <td>3.00</td>\n",
       "      <td>three point o o</td>\n",
       "      <td>3 00</td>\n",
       "    </tr>\n",
       "    <tr>\n",
       "      <th>27</th>\n",
       "      <td>2.0</td>\n",
       "      <td>two point zero</td>\n",
       "      <td>2 0</td>\n",
       "    </tr>\n",
       "    <tr>\n",
       "      <th>28</th>\n",
       "      <td>93.3</td>\n",
       "      <td>ninety three point three</td>\n",
       "      <td>93 3</td>\n",
       "    </tr>\n",
       "    <tr>\n",
       "      <th>29</th>\n",
       "      <td>29.7</td>\n",
       "      <td>twenty nine point seven</td>\n",
       "      <td>29 7</td>\n",
       "    </tr>\n",
       "    <tr>\n",
       "      <th>...</th>\n",
       "      <td>...</td>\n",
       "      <td>...</td>\n",
       "      <td>...</td>\n",
       "    </tr>\n",
       "    <tr>\n",
       "      <th>9791</th>\n",
       "      <td>.212</td>\n",
       "      <td>point two one two</td>\n",
       "      <td>212</td>\n",
       "    </tr>\n",
       "    <tr>\n",
       "      <th>9792</th>\n",
       "      <td>1.0</td>\n",
       "      <td>one point zero</td>\n",
       "      <td>1 0</td>\n",
       "    </tr>\n",
       "    <tr>\n",
       "      <th>9793</th>\n",
       "      <td>1.5</td>\n",
       "      <td>one point five</td>\n",
       "      <td>1 5</td>\n",
       "    </tr>\n",
       "    <tr>\n",
       "      <th>9794</th>\n",
       "      <td>.975</td>\n",
       "      <td>point nine seven five</td>\n",
       "      <td>975</td>\n",
       "    </tr>\n",
       "    <tr>\n",
       "      <th>9795</th>\n",
       "      <td>.58</td>\n",
       "      <td>point five eight</td>\n",
       "      <td>58</td>\n",
       "    </tr>\n",
       "    <tr>\n",
       "      <th>9796</th>\n",
       "      <td>111.7</td>\n",
       "      <td>one hundred eleven point seven</td>\n",
       "      <td>111 7</td>\n",
       "    </tr>\n",
       "    <tr>\n",
       "      <th>9797</th>\n",
       "      <td>96.3</td>\n",
       "      <td>ninety six point three</td>\n",
       "      <td>96 3</td>\n",
       "    </tr>\n",
       "    <tr>\n",
       "      <th>9798</th>\n",
       "      <td>33.58</td>\n",
       "      <td>thirty three point five eight</td>\n",
       "      <td>33 58</td>\n",
       "    </tr>\n",
       "    <tr>\n",
       "      <th>9799</th>\n",
       "      <td>0.47</td>\n",
       "      <td>zero point four seven</td>\n",
       "      <td>0 47</td>\n",
       "    </tr>\n",
       "    <tr>\n",
       "      <th>9800</th>\n",
       "      <td>1.4</td>\n",
       "      <td>one point four</td>\n",
       "      <td>1 4</td>\n",
       "    </tr>\n",
       "    <tr>\n",
       "      <th>9801</th>\n",
       "      <td>2.78</td>\n",
       "      <td>two point seven eight</td>\n",
       "      <td>2 78</td>\n",
       "    </tr>\n",
       "    <tr>\n",
       "      <th>9802</th>\n",
       "      <td>3.25</td>\n",
       "      <td>three point two five</td>\n",
       "      <td>3 25</td>\n",
       "    </tr>\n",
       "    <tr>\n",
       "      <th>9803</th>\n",
       "      <td>0.25</td>\n",
       "      <td>zero point two five</td>\n",
       "      <td>0 25</td>\n",
       "    </tr>\n",
       "    <tr>\n",
       "      <th>9804</th>\n",
       "      <td>.2</td>\n",
       "      <td>point two</td>\n",
       "      <td>2</td>\n",
       "    </tr>\n",
       "    <tr>\n",
       "      <th>9805</th>\n",
       "      <td>106.9</td>\n",
       "      <td>one hundred six point nine</td>\n",
       "      <td>106 9</td>\n",
       "    </tr>\n",
       "    <tr>\n",
       "      <th>9806</th>\n",
       "      <td>4.5</td>\n",
       "      <td>four point five</td>\n",
       "      <td>4 5</td>\n",
       "    </tr>\n",
       "    <tr>\n",
       "      <th>9807</th>\n",
       "      <td>20.8</td>\n",
       "      <td>twenty point eight</td>\n",
       "      <td>20 8</td>\n",
       "    </tr>\n",
       "    <tr>\n",
       "      <th>9808</th>\n",
       "      <td>29.1</td>\n",
       "      <td>twenty nine point one</td>\n",
       "      <td>29 1</td>\n",
       "    </tr>\n",
       "    <tr>\n",
       "      <th>9809</th>\n",
       "      <td>4 million</td>\n",
       "      <td>four million</td>\n",
       "      <td>4 million</td>\n",
       "    </tr>\n",
       "    <tr>\n",
       "      <th>9810</th>\n",
       "      <td>30.5</td>\n",
       "      <td>thirty point five</td>\n",
       "      <td>30 5</td>\n",
       "    </tr>\n",
       "    <tr>\n",
       "      <th>9811</th>\n",
       "      <td>15.25</td>\n",
       "      <td>fifteen point two five</td>\n",
       "      <td>15 25</td>\n",
       "    </tr>\n",
       "    <tr>\n",
       "      <th>9812</th>\n",
       "      <td>3.6</td>\n",
       "      <td>three point six</td>\n",
       "      <td>3 6</td>\n",
       "    </tr>\n",
       "    <tr>\n",
       "      <th>9813</th>\n",
       "      <td>3.6</td>\n",
       "      <td>three point six</td>\n",
       "      <td>3 6</td>\n",
       "    </tr>\n",
       "    <tr>\n",
       "      <th>9814</th>\n",
       "      <td>3.6</td>\n",
       "      <td>three point six</td>\n",
       "      <td>3 6</td>\n",
       "    </tr>\n",
       "    <tr>\n",
       "      <th>9815</th>\n",
       "      <td>3.6</td>\n",
       "      <td>three point six</td>\n",
       "      <td>3 6</td>\n",
       "    </tr>\n",
       "    <tr>\n",
       "      <th>9816</th>\n",
       "      <td>3.06</td>\n",
       "      <td>three point o six</td>\n",
       "      <td>3 06</td>\n",
       "    </tr>\n",
       "    <tr>\n",
       "      <th>9817</th>\n",
       "      <td>3.40</td>\n",
       "      <td>three point four o</td>\n",
       "      <td>3 40</td>\n",
       "    </tr>\n",
       "    <tr>\n",
       "      <th>9818</th>\n",
       "      <td>22.5</td>\n",
       "      <td>twenty two point five</td>\n",
       "      <td>22 5</td>\n",
       "    </tr>\n",
       "    <tr>\n",
       "      <th>9819</th>\n",
       "      <td>.264</td>\n",
       "      <td>point two six four</td>\n",
       "      <td>264</td>\n",
       "    </tr>\n",
       "    <tr>\n",
       "      <th>9820</th>\n",
       "      <td>2.0</td>\n",
       "      <td>two point zero</td>\n",
       "      <td>2 0</td>\n",
       "    </tr>\n",
       "  </tbody>\n",
       "</table>\n",
       "<p>9821 rows × 3 columns</p>\n",
       "</div>"
      ],
      "text/plain": [
       "                x                                         y_actual  \\\n",
       "0     .161         point one six one                                 \n",
       "1     .6           point six                                         \n",
       "2     1.6          one point six                                     \n",
       "3     .267         point two six seven                               \n",
       "4     .266         point two six six                                 \n",
       "5     .13          point one three                                   \n",
       "6     108.5        one hundred eight point five                      \n",
       "7     .70          point seven o                                     \n",
       "8     1.7 million  one point seven million                           \n",
       "9     2.42         two point four two                                \n",
       "10    3.08         three point o eight                               \n",
       "11    1,495.6      one thousand four hundred ninety five point six   \n",
       "12    2.93         two point nine three                              \n",
       "13    3.28         three point two eight                             \n",
       "14    1,195.9      one thousand one hundred ninety five point nine   \n",
       "15    550.8        five hundred fifty point eight                    \n",
       "16    27.13        twenty seven point one three                      \n",
       "17    11.4         eleven point four                                 \n",
       "18    .178         point one seven eight                             \n",
       "19    .43          point four three                                  \n",
       "20    95.7         ninety five point seven                           \n",
       "21    80.6         eighty point six                                  \n",
       "22    8.5          eight point five                                  \n",
       "23    2.56         two point five six                                \n",
       "24    3.00         three point o o                                   \n",
       "25    2.55         two point five five                               \n",
       "26    3.00         three point o o                                   \n",
       "27    2.0          two point zero                                    \n",
       "28    93.3         ninety three point three                          \n",
       "29    29.7         twenty nine point seven                           \n",
       "...    ...                             ...                           \n",
       "9791  .212         point two one two                                 \n",
       "9792  1.0          one point zero                                    \n",
       "9793  1.5          one point five                                    \n",
       "9794  .975         point nine seven five                             \n",
       "9795  .58          point five eight                                  \n",
       "9796  111.7        one hundred eleven point seven                    \n",
       "9797  96.3         ninety six point three                            \n",
       "9798  33.58        thirty three point five eight                     \n",
       "9799  0.47         zero point four seven                             \n",
       "9800  1.4          one point four                                    \n",
       "9801  2.78         two point seven eight                             \n",
       "9802  3.25         three point two five                              \n",
       "9803  0.25         zero point two five                               \n",
       "9804  .2           point two                                         \n",
       "9805  106.9        one hundred six point nine                        \n",
       "9806  4.5          four point five                                   \n",
       "9807  20.8         twenty point eight                                \n",
       "9808  29.1         twenty nine point one                             \n",
       "9809  4 million    four million                                      \n",
       "9810  30.5         thirty point five                                 \n",
       "9811  15.25        fifteen point two five                            \n",
       "9812  3.6          three point six                                   \n",
       "9813  3.6          three point six                                   \n",
       "9814  3.6          three point six                                   \n",
       "9815  3.6          three point six                                   \n",
       "9816  3.06         three point o six                                 \n",
       "9817  3.40         three point four o                                \n",
       "9818  22.5         twenty two point five                             \n",
       "9819  .264         point two six four                                \n",
       "9820  2.0          two point zero                                    \n",
       "\n",
       "           y_pred  \n",
       "0      161         \n",
       "1      6           \n",
       "2     1 6          \n",
       "3      267         \n",
       "4      266         \n",
       "5      13          \n",
       "6     108 5        \n",
       "7      70          \n",
       "8     1 7 million  \n",
       "9     2 42         \n",
       "10    3 08         \n",
       "11    1 495 6      \n",
       "12    2 93         \n",
       "13    3 28         \n",
       "14    1 195 9      \n",
       "15    550 8        \n",
       "16    27 13        \n",
       "17    11 4         \n",
       "18     178         \n",
       "19     43          \n",
       "20    95 7         \n",
       "21    80 6         \n",
       "22    8 5          \n",
       "23    2 56         \n",
       "24    3 00         \n",
       "25    2 55         \n",
       "26    3 00         \n",
       "27    2 0          \n",
       "28    93 3         \n",
       "29    29 7         \n",
       "...    ...         \n",
       "9791   212         \n",
       "9792  1 0          \n",
       "9793  1 5          \n",
       "9794   975         \n",
       "9795   58          \n",
       "9796  111 7        \n",
       "9797  96 3         \n",
       "9798  33 58        \n",
       "9799  0 47         \n",
       "9800  1 4          \n",
       "9801  2 78         \n",
       "9802  3 25         \n",
       "9803  0 25         \n",
       "9804   2           \n",
       "9805  106 9        \n",
       "9806  4 5          \n",
       "9807  20 8         \n",
       "9808  29 1         \n",
       "9809  4 million    \n",
       "9810  30 5         \n",
       "9811  15 25        \n",
       "9812  3 6          \n",
       "9813  3 6          \n",
       "9814  3 6          \n",
       "9815  3 6          \n",
       "9816  3 06         \n",
       "9817  3 40         \n",
       "9818  22 5         \n",
       "9819   264         \n",
       "9820  2 0          \n",
       "\n",
       "[9821 rows x 3 columns]"
      ]
     },
     "execution_count": 84,
     "metadata": {},
     "output_type": "execute_result"
    }
   ],
   "source": [
    "decimal_"
   ]
  },
  {
   "cell_type": "markdown",
   "metadata": {},
   "source": [
    "**Digit**"
   ]
  },
  {
   "cell_type": "code",
   "execution_count": 59,
   "metadata": {
    "ExecuteTime": {
     "end_time": "2019-07-07T08:38:01.826631Z",
     "start_time": "2019-07-07T08:38:01.818654Z"
    }
   },
   "outputs": [],
   "source": [
    "def digit(x): \n",
    "    try:\n",
    "        x = re.sub('[^0-9]', '',x)\n",
    "        result_string = ''\n",
    "        for i in x:\n",
    "            result_string = result_string + cardinal(i) + ' '\n",
    "        result_string = result_string.strip()\n",
    "        return result_string\n",
    "    except:\n",
    "        return(x) "
   ]
  },
  {
   "cell_type": "code",
   "execution_count": 60,
   "metadata": {
    "ExecuteTime": {
     "end_time": "2019-07-07T08:38:07.955843Z",
     "start_time": "2019-07-07T08:38:04.753919Z"
    }
   },
   "outputs": [],
   "source": [
    "digit_ = pd.DataFrame()\n",
    "\n",
    "digit_['x'] = data[data['class'] == 'DIGIT']['before'].values\n",
    "digit_['y_actual'] = data[data['class'] == 'DIGIT']['after'].values\n",
    "digit_['y_pred'] = digit_['x'].apply(digit)"
   ]
  },
  {
   "cell_type": "code",
   "execution_count": 63,
   "metadata": {
    "ExecuteTime": {
     "end_time": "2019-07-07T08:39:08.274596Z",
     "start_time": "2019-07-07T08:39:08.057178Z"
    }
   },
   "outputs": [
    {
     "name": "stdout",
     "output_type": "stream",
     "text": [
      "5431 5442 99.79786843072401\n"
     ]
    }
   ],
   "source": [
    "correct_count = 0\n",
    "incorrect = []\n",
    "for i in range(len(digit_)):\n",
    "    if digit_['y_pred'][i] == digit_['y_actual'][i]:\n",
    "        correct_count += 1\n",
    "    else:\n",
    "        incorrect.append(i)\n",
    "\n",
    "print(correct_count, len(digit_), correct_count/len(digit_)*100)"
   ]
  },
  {
   "cell_type": "code",
   "execution_count": 64,
   "metadata": {
    "ExecuteTime": {
     "end_time": "2019-07-07T08:39:15.887784Z",
     "start_time": "2019-07-07T08:39:15.880805Z"
    }
   },
   "outputs": [
    {
     "data": {
      "text/plain": [
       "[23, 1585, 2557, 2574, 2915, 2916, 3224, 3635, 4778, 4894, 4989]"
      ]
     },
     "execution_count": 64,
     "metadata": {},
     "output_type": "execute_result"
    }
   ],
   "source": [
    "incorrect"
   ]
  },
  {
   "cell_type": "code",
   "execution_count": null,
   "metadata": {},
   "outputs": [],
   "source": []
  }
 ],
 "metadata": {
  "kernelspec": {
   "display_name": "Python 3",
   "language": "python",
   "name": "python3"
  },
  "language_info": {
   "codemirror_mode": {
    "name": "ipython",
    "version": 3
   },
   "file_extension": ".py",
   "mimetype": "text/x-python",
   "name": "python",
   "nbconvert_exporter": "python",
   "pygments_lexer": "ipython3",
   "version": "3.7.3"
  },
  "toc": {
   "base_numbering": 1,
   "nav_menu": {},
   "number_sections": true,
   "sideBar": true,
   "skip_h1_title": false,
   "title_cell": "Table of Contents",
   "title_sidebar": "Contents",
   "toc_cell": false,
   "toc_position": {},
   "toc_section_display": true,
   "toc_window_display": false
  },
  "varInspector": {
   "cols": {
    "lenName": 16,
    "lenType": 16,
    "lenVar": 40
   },
   "kernels_config": {
    "python": {
     "delete_cmd_postfix": "",
     "delete_cmd_prefix": "del ",
     "library": "var_list.py",
     "varRefreshCmd": "print(var_dic_list())"
    },
    "r": {
     "delete_cmd_postfix": ") ",
     "delete_cmd_prefix": "rm(",
     "library": "var_list.r",
     "varRefreshCmd": "cat(var_dic_list()) "
    }
   },
   "types_to_exclude": [
    "module",
    "function",
    "builtin_function_or_method",
    "instance",
    "_Feature"
   ],
   "window_display": false
  }
 },
 "nbformat": 4,
 "nbformat_minor": 2
}
