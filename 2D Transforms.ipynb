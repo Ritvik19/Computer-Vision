{
 "cells": [
  {
   "cell_type": "code",
   "execution_count": 1,
   "metadata": {
    "ExecuteTime": {
     "end_time": "2020-03-07T17:45:07.607542Z",
     "start_time": "2020-03-07T17:45:04.451983Z"
    }
   },
   "outputs": [],
   "source": [
    "import numpy as np\n",
    "import matplotlib.pyplot as plt\n",
    "import cv2"
   ]
  },
  {
   "cell_type": "code",
   "execution_count": 2,
   "metadata": {
    "ExecuteTime": {
     "end_time": "2020-03-07T17:45:12.390391Z",
     "start_time": "2020-03-07T17:45:12.386400Z"
    }
   },
   "outputs": [],
   "source": [
    "from math import sin, cos, pi"
   ]
  },
  {
   "cell_type": "code",
   "execution_count": 3,
   "metadata": {
    "ExecuteTime": {
     "end_time": "2020-03-07T17:45:37.265915Z",
     "start_time": "2020-03-07T17:45:35.394921Z"
    }
   },
   "outputs": [
    {
     "data": {
      "text/plain": [
       "<matplotlib.image.AxesImage at 0x233822d1080>"
      ]
     },
     "execution_count": 3,
     "metadata": {},
     "output_type": "execute_result"
    },
    {
     "data": {
      "image/png": "[encoded data removed]",
      "text/plain": [
       "<Figure size 432x288 with 1 Axes>"
      ]
     },
     "metadata": {
      "needs_background": "light"
     },
     "output_type": "display_data"
    }
   ],
   "source": [
    "blankImage = np.zeros((50,50))\n",
    "plt.imshow(blankImage, cmap='gray')"
   ]
  },
  {
   "cell_type": "code",
   "execution_count": 4,
   "metadata": {
    "ExecuteTime": {
     "end_time": "2020-03-07T17:45:46.731935Z",
     "start_time": "2020-03-07T17:45:46.723958Z"
    }
   },
   "outputs": [],
   "source": [
    "def drawLines(img, points):\n",
    "    for i in range(4):\n",
    "        img = cv2.line(img, pt1=tuple(points[:2, i]), pt2=tuple(points[:2, (i+1)%4]), \n",
    "                       color=(255,), thickness=1)\n",
    "    return img"
   ]
  },
  {
   "cell_type": "code",
   "execution_count": 5,
   "metadata": {
    "ExecuteTime": {
     "end_time": "2020-03-07T17:46:05.137545Z",
     "start_time": "2020-03-07T17:46:05.131560Z"
    }
   },
   "outputs": [],
   "source": [
    "points = np.array([[5, 5, 1], [5, 20, 1], [20, 20, 1], [20, 5, 1]]).transpose()"
   ]
  },
  {
   "cell_type": "code",
   "execution_count": 6,
   "metadata": {
    "ExecuteTime": {
     "end_time": "2020-03-07T17:46:16.330893Z",
     "start_time": "2020-03-07T17:46:15.842201Z"
    }
   },
   "outputs": [
    {
     "data": {
      "text/plain": [
       "<matplotlib.image.AxesImage at 0x2338507acc0>"
      ]
     },
     "execution_count": 6,
     "metadata": {},
     "output_type": "execute_result"
    },
    {
     "data": {
      "image/png": "[encoded data removed]",
      "text/plain": [
       "<Figure size 432x288 with 1 Axes>"
      ]
     },
     "metadata": {
      "needs_background": "light"
     },
     "output_type": "display_data"
    }
   ],
   "source": [
    "square = blankImage.copy()\n",
    "plt.imshow(drawLines(square, points), cmap='gray')"
   ]
  },
  {
   "cell_type": "markdown",
   "metadata": {},
   "source": [
    "# Translation"
   ]
  },
  {
   "cell_type": "code",
   "execution_count": 7,
   "metadata": {
    "ExecuteTime": {
     "end_time": "2020-03-07T17:46:52.675578Z",
     "start_time": "2020-03-07T17:46:52.427244Z"
    }
   },
   "outputs": [
    {
     "name": "stdout",
     "output_type": "stream",
     "text": [
      "[[ 5  5 20 20]\n",
      " [ 5 20 20  5]\n",
      " [ 1  1  1  1]]\n"
     ]
    },
    {
     "data": {
      "text/plain": [
       "<matplotlib.image.AxesImage at 0x233850ccdd8>"
      ]
     },
     "execution_count": 7,
     "metadata": {},
     "output_type": "execute_result"
    },
    {
     "data": {
      "image/png": "[encoded data removed]",
      "text/plain": [
       "<Figure size 432x288 with 1 Axes>"
      ]
     },
     "metadata": {
      "needs_background": "light"
     },
     "output_type": "display_data"
    }
   ],
   "source": [
    "transformation = np.array([\n",
    "    [1, 0, 0], \n",
    "    [0, 1, 0],\n",
    "    [0, 0, 1]\n",
    "])\n",
    "\n",
    "new_points = transformation.dot(points)\n",
    "\n",
    "print(new_points)\n",
    "newImage = blankImage.copy()\n",
    "plt.imshow(drawLines(newImage, new_points), cmap='gray')"
   ]
  },
  {
   "cell_type": "markdown",
   "metadata": {},
   "source": [
    "# Rotation"
   ]
  },
  {
   "cell_type": "code",
   "execution_count": 8,
   "metadata": {
    "ExecuteTime": {
     "end_time": "2020-03-07T17:47:11.870376Z",
     "start_time": "2020-03-07T17:47:11.611069Z"
    }
   },
   "outputs": [
    {
     "name": "stdout",
     "output_type": "stream",
     "text": [
      "[[ 4  1 16 18]\n",
      " [ 5 20 23  8]\n",
      " [ 1  1  1  1]]\n"
     ]
    },
    {
     "data": {
      "text/plain": [
       "<matplotlib.image.AxesImage at 0x23385128208>"
      ]
     },
     "execution_count": 8,
     "metadata": {},
     "output_type": "execute_result"
    },
    {
     "data": {
      "image/png": "[encoded data removed]",
      "text/plain": [
       "<Figure size 432x288 with 1 Axes>"
      ]
     },
     "metadata": {
      "needs_background": "light"
     },
     "output_type": "display_data"
    }
   ],
   "source": [
    "transformation = np.array([\n",
    "    [cos(pi/18), -sin(pi/18), 0], \n",
    "    [sin(pi/18), cos(pi/18), 0],\n",
    "    [0, 0, 1]\n",
    "])\n",
    "\n",
    "new_points = transformation.dot(points).astype('int')\n",
    "\n",
    "print(new_points)\n",
    "newImage = blankImage.copy()\n",
    "plt.imshow(drawLines(newImage, new_points), cmap='gray')"
   ]
  },
  {
   "cell_type": "markdown",
   "metadata": {},
   "source": [
    "# Scaling"
   ]
  },
  {
   "cell_type": "code",
   "execution_count": 9,
   "metadata": {
    "ExecuteTime": {
     "end_time": "2020-03-07T17:47:37.628913Z",
     "start_time": "2020-03-07T17:47:37.426455Z"
    }
   },
   "outputs": [
    {
     "name": "stdout",
     "output_type": "stream",
     "text": [
      "[[10 10 40 40]\n",
      " [10 40 40 10]\n",
      " [ 1  1  1  1]]\n"
     ]
    },
    {
     "data": {
      "text/plain": [
       "<matplotlib.image.AxesImage at 0x2338517ab70>"
      ]
     },
     "execution_count": 9,
     "metadata": {},
     "output_type": "execute_result"
    },
    {
     "data": {
      "image/png": "[encoded data removed]",
      "text/plain": [
       "<Figure size 432x288 with 1 Axes>"
      ]
     },
     "metadata": {
      "needs_background": "light"
     },
     "output_type": "display_data"
    }
   ],
   "source": [
    "transformation = np.array([\n",
    "    [2, 0, 0], \n",
    "    [0, 2, 0],\n",
    "    [0, 0, 1]\n",
    "])\n",
    "\n",
    "new_points = transformation.dot(points).astype('int')\n",
    "\n",
    "print(new_points)\n",
    "newImage = blankImage.copy()\n",
    "plt.imshow(drawLines(newImage, new_points), cmap='gray')"
   ]
  },
  {
   "cell_type": "markdown",
   "metadata": {},
   "source": [
    "# Reflection in X Axis"
   ]
  },
  {
   "cell_type": "code",
   "execution_count": 10,
   "metadata": {
    "ExecuteTime": {
     "end_time": "2020-03-07T17:48:00.561558Z",
     "start_time": "2020-03-07T17:48:00.347132Z"
    }
   },
   "outputs": [
    {
     "name": "stdout",
     "output_type": "stream",
     "text": [
      "[[  5   5  20  20]\n",
      " [ -5 -20 -20  -5]\n",
      " [  1   1   1   1]]\n"
     ]
    },
    {
     "data": {
      "text/plain": [
       "<matplotlib.image.AxesImage at 0x233851cf978>"
      ]
     },
     "execution_count": 10,
     "metadata": {},
     "output_type": "execute_result"
    },
    {
     "data": {
      "image/png": "[encoded data removed]",
      "text/plain": [
       "<Figure size 432x288 with 1 Axes>"
      ]
     },
     "metadata": {
      "needs_background": "light"
     },
     "output_type": "display_data"
    }
   ],
   "source": [
    "transformation = np.array([\n",
    "    [1, 0, 0], \n",
    "    [0, -1, 0],\n",
    "    [0, 0, 1]\n",
    "])\n",
    "\n",
    "new_points = transformation.dot(points).astype('int')\n",
    "print(new_points)\n",
    "newImage = blankImage.copy()\n",
    "plt.imshow(drawLines(newImage, new_points), cmap='gray')"
   ]
  },
  {
   "cell_type": "markdown",
   "metadata": {},
   "source": [
    "# Reflection in Y Axis"
   ]
  },
  {
   "cell_type": "code",
   "execution_count": 11,
   "metadata": {
    "ExecuteTime": {
     "end_time": "2020-03-07T17:48:35.972621Z",
     "start_time": "2020-03-07T17:48:35.754207Z"
    }
   },
   "outputs": [
    {
     "name": "stdout",
     "output_type": "stream",
     "text": [
      "[[ -5  -5 -20 -20]\n",
      " [  5  20  20   5]\n",
      " [  1   1   1   1]]\n"
     ]
    },
    {
     "data": {
      "text/plain": [
       "<matplotlib.image.AxesImage at 0x23385226780>"
      ]
     },
     "execution_count": 11,
     "metadata": {},
     "output_type": "execute_result"
    },
    {
     "data": {
      "image/png": "[encoded data removed]",
      "text/plain": [
       "<Figure size 432x288 with 1 Axes>"
      ]
     },
     "metadata": {
      "needs_background": "light"
     },
     "output_type": "display_data"
    }
   ],
   "source": [
    "transformation = np.array([\n",
    "    [-1, 0, 0], \n",
    "    [0, 1, 0],\n",
    "    [0, 0, 1]\n",
    "])\n",
    "\n",
    "new_points = transformation.dot(points).astype('int')\n",
    "print(new_points)\n",
    "newImage = blankImage.copy()\n",
    "plt.imshow(drawLines(newImage, new_points), cmap='gray')"
   ]
  },
  {
   "cell_type": "markdown",
   "metadata": {},
   "source": [
    "# Reflection about Origin"
   ]
  },
  {
   "cell_type": "code",
   "execution_count": 12,
   "metadata": {
    "ExecuteTime": {
     "end_time": "2020-03-07T17:49:24.529380Z",
     "start_time": "2020-03-07T17:49:24.306975Z"
    }
   },
   "outputs": [
    {
     "name": "stdout",
     "output_type": "stream",
     "text": [
      "[[ -5  -5 -20 -20]\n",
      " [ -5 -20 -20  -5]\n",
      " [  1   1   1   1]]\n"
     ]
    },
    {
     "data": {
      "text/plain": [
       "<matplotlib.image.AxesImage at 0x2338527d550>"
      ]
     },
     "execution_count": 12,
     "metadata": {},
     "output_type": "execute_result"
    },
    {
     "data": {
      "image/png": "[encoded data removed]",
      "text/plain": [
       "<Figure size 432x288 with 1 Axes>"
      ]
     },
     "metadata": {
      "needs_background": "light"
     },
     "output_type": "display_data"
    }
   ],
   "source": [
    "transformation = np.array([\n",
    "    [-1, 0, 0], \n",
    "    [0, -1, 0],\n",
    "    [0, 0, 1]\n",
    "])\n",
    "\n",
    "new_points = transformation.dot(points).astype('int')\n",
    "print(new_points)\n",
    "newImage = blankImage.copy()\n",
    "plt.imshow(drawLines(newImage, new_points), cmap='gray')"
   ]
  },
  {
   "cell_type": "markdown",
   "metadata": {},
   "source": [
    "# Reflection about y=x"
   ]
  },
  {
   "cell_type": "code",
   "execution_count": 13,
   "metadata": {
    "ExecuteTime": {
     "end_time": "2020-03-07T17:49:42.016601Z",
     "start_time": "2020-03-07T17:49:41.772256Z"
    }
   },
   "outputs": [
    {
     "name": "stdout",
     "output_type": "stream",
     "text": [
      "[[ 5 20 20  5]\n",
      " [ 5  5 20 20]\n",
      " [ 1  1  1  1]]\n"
     ]
    },
    {
     "data": {
      "text/plain": [
       "<matplotlib.image.AxesImage at 0x233852cda90>"
      ]
     },
     "execution_count": 13,
     "metadata": {},
     "output_type": "execute_result"
    },
    {
     "data": {
      "image/png": "[encoded data removed]",
      "text/plain": [
       "<Figure size 432x288 with 1 Axes>"
      ]
     },
     "metadata": {
      "needs_background": "light"
     },
     "output_type": "display_data"
    }
   ],
   "source": [
    "transformation = np.array([\n",
    "    [0, 1, 0], \n",
    "    [1, 0, 0],\n",
    "    [0, 0, 1]\n",
    "])\n",
    "\n",
    "new_points = transformation.dot(points).astype('int')\n",
    "print(new_points)\n",
    "newImage = blankImage.copy()\n",
    "plt.imshow(drawLines(newImage, new_points), cmap='gray')"
   ]
  },
  {
   "cell_type": "markdown",
   "metadata": {},
   "source": [
    "# Reflection about y=-x"
   ]
  },
  {
   "cell_type": "code",
   "execution_count": 14,
   "metadata": {
    "ExecuteTime": {
     "end_time": "2020-03-07T17:49:57.144136Z",
     "start_time": "2020-03-07T17:49:56.923727Z"
    }
   },
   "outputs": [
    {
     "name": "stdout",
     "output_type": "stream",
     "text": [
      "[[ -5 -20 -20  -5]\n",
      " [ -5  -5 -20 -20]\n",
      " [  1   1   1   1]]\n"
     ]
    },
    {
     "data": {
      "text/plain": [
       "<matplotlib.image.AxesImage at 0x2338531fe80>"
      ]
     },
     "execution_count": 14,
     "metadata": {},
     "output_type": "execute_result"
    },
    {
     "data": {
      "image/png": "[encoded data removed]",
      "text/plain": [
       "<Figure size 432x288 with 1 Axes>"
      ]
     },
     "metadata": {
      "needs_background": "light"
     },
     "output_type": "display_data"
    }
   ],
   "source": [
    "transformation = np.array([\n",
    "    [0, -1, 0], \n",
    "    [-1, 0, 0],\n",
    "    [0, 0, 1]\n",
    "])\n",
    "\n",
    "new_points = transformation.dot(points).astype('int')\n",
    "print(new_points)\n",
    "newImage = blankImage.copy()\n",
    "plt.imshow(drawLines(newImage, new_points), cmap='gray')"
   ]
  },
  {
   "cell_type": "markdown",
   "metadata": {},
   "source": [
    "# Shearing in X direction"
   ]
  },
  {
   "cell_type": "code",
   "execution_count": 15,
   "metadata": {
    "ExecuteTime": {
     "end_time": "2020-03-07T17:50:12.807417Z",
     "start_time": "2020-03-07T17:50:12.578032Z"
    }
   },
   "outputs": [
    {
     "name": "stdout",
     "output_type": "stream",
     "text": [
      "[[ 5  5 20 20]\n",
      " [10 25 40 25]\n",
      " [ 1  1  1  1]]\n"
     ]
    },
    {
     "data": {
      "text/plain": [
       "<matplotlib.image.AxesImage at 0x2338537b080>"
      ]
     },
     "execution_count": 15,
     "metadata": {},
     "output_type": "execute_result"
    },
    {
     "data": {
      "image/png": "[encoded data removed]",
      "text/plain": [
       "<Figure size 432x288 with 1 Axes>"
      ]
     },
     "metadata": {
      "needs_background": "light"
     },
     "output_type": "display_data"
    }
   ],
   "source": [
    "transformation = np.array([\n",
    "    [1, 0, 0], \n",
    "    [1, 1, 0],\n",
    "    [0, 0, 1]\n",
    "])\n",
    "\n",
    "new_points = transformation.dot(points).astype('int')\n",
    "print(new_points)\n",
    "newImage = blankImage.copy()\n",
    "plt.imshow(drawLines(newImage, new_points), cmap='gray')"
   ]
  },
  {
   "cell_type": "markdown",
   "metadata": {},
   "source": [
    "# Shearing in Y direction"
   ]
  },
  {
   "cell_type": "code",
   "execution_count": 16,
   "metadata": {
    "ExecuteTime": {
     "end_time": "2020-03-07T17:50:55.009637Z",
     "start_time": "2020-03-07T17:50:54.772271Z"
    }
   },
   "outputs": [
    {
     "name": "stdout",
     "output_type": "stream",
     "text": [
      "[[10 25 40 25]\n",
      " [ 5 20 20  5]\n",
      " [ 1  1  1  1]]\n"
     ]
    },
    {
     "data": {
      "text/plain": [
       "<matplotlib.image.AxesImage at 0x233853cd3c8>"
      ]
     },
     "execution_count": 16,
     "metadata": {},
     "output_type": "execute_result"
    },
    {
     "data": {
      "image/png": "[encoded data removed]",
      "text/plain": [
       "<Figure size 432x288 with 1 Axes>"
      ]
     },
     "metadata": {
      "needs_background": "light"
     },
     "output_type": "display_data"
    }
   ],
   "source": [
    "transformation = np.array([\n",
    "    [1, 1, 0], \n",
    "    [0, 1, 0],\n",
    "    [0, 0, 1]\n",
    "])\n",
    "\n",
    "new_points = transformation.dot(points).astype('int')\n",
    "print(new_points)\n",
    "newImage = blankImage.copy()\n",
    "plt.imshow(drawLines(newImage, new_points), cmap='gray')"
   ]
  },
  {
   "cell_type": "markdown",
   "metadata": {},
   "source": [
    "# Shearing in both directions"
   ]
  },
  {
   "cell_type": "code",
   "execution_count": 17,
   "metadata": {
    "ExecuteTime": {
     "end_time": "2020-03-07T17:51:13.342080Z",
     "start_time": "2020-03-07T17:51:13.147605Z"
    }
   },
   "outputs": [
    {
     "name": "stdout",
     "output_type": "stream",
     "text": [
      "[[ 7 15 30 22]\n",
      " [ 7 22 30 15]\n",
      " [ 1  1  1  1]]\n"
     ]
    },
    {
     "data": {
      "text/plain": [
       "<matplotlib.image.AxesImage at 0x233854206a0>"
      ]
     },
     "execution_count": 17,
     "metadata": {},
     "output_type": "execute_result"
    },
    {
     "data": {
      "image/png": "[encoded data removed]",
      "text/plain": [
       "<Figure size 432x288 with 1 Axes>"
      ]
     },
     "metadata": {
      "needs_background": "light"
     },
     "output_type": "display_data"
    }
   ],
   "source": [
    "transformation = np.array([\n",
    "    [1, 0.5, 0], \n",
    "    [0.5, 1, 0],\n",
    "    [0, 0, 1]\n",
    "])\n",
    "\n",
    "new_points = transformation.dot(points).astype('int')\n",
    "print(new_points)\n",
    "newImage = blankImage.copy()\n",
    "plt.imshow(drawLines(newImage, new_points), cmap='gray')"
   ]
  },
  {
   "cell_type": "markdown",
   "metadata": {},
   "source": [
    "# Affine\n",
    "Shearing, Translation and Scaling"
   ]
  },
  {
   "cell_type": "code",
   "execution_count": 18,
   "metadata": {
    "ExecuteTime": {
     "end_time": "2020-03-07T17:51:36.228714Z",
     "start_time": "2020-03-07T17:51:36.028253Z"
    }
   },
   "outputs": [
    {
     "name": "stdout",
     "output_type": "stream",
     "text": [
      "[[12 20 35 27]\n",
      " [12 27 35 20]\n",
      " [ 1  1  1  1]]\n"
     ]
    },
    {
     "data": {
      "text/plain": [
       "<matplotlib.image.AxesImage at 0x233864439b0>"
      ]
     },
     "execution_count": 18,
     "metadata": {},
     "output_type": "execute_result"
    },
    {
     "data": {
      "image/png": "[encoded data removed]",
      "text/plain": [
       "<Figure size 432x288 with 1 Axes>"
      ]
     },
     "metadata": {
      "needs_background": "light"
     },
     "output_type": "display_data"
    }
   ],
   "source": [
    "transformation = np.array([\n",
    "    [1, 0.5, 5], \n",
    "    [0.5, 1, 5],\n",
    "    [0, 0, 1]\n",
    "])\n",
    "\n",
    "new_points = transformation.dot(points).astype('int')\n",
    "print(new_points)\n",
    "newImage = blankImage.copy()\n",
    "plt.imshow(drawLines(newImage, new_points), cmap='gray')"
   ]
  },
  {
   "cell_type": "code",
   "execution_count": null,
   "metadata": {},
   "outputs": [],
   "source": []
  }
 ],
 "metadata": {
  "kernelspec": {
   "display_name": "Python 3",
   "language": "python",
   "name": "python3"
  },
  "language_info": {
   "codemirror_mode": {
    "name": "ipython",
    "version": 3
   },
   "file_extension": ".py",
   "mimetype": "text/x-python",
   "name": "python",
   "nbconvert_exporter": "python",
   "pygments_lexer": "ipython3",
   "version": "3.7.3"
  },
  "toc": {
   "base_numbering": 1,
   "nav_menu": {},
   "number_sections": true,
   "sideBar": true,
   "skip_h1_title": false,
   "title_cell": "Table of Contents",
   "title_sidebar": "Contents",
   "toc_cell": false,
   "toc_position": {},
   "toc_section_display": true,
   "toc_window_display": false
  },
  "varInspector": {
   "cols": {
    "lenName": 16,
    "lenType": 16,
    "lenVar": 40
   },
   "kernels_config": {
    "python": {
     "delete_cmd_postfix": "",
     "delete_cmd_prefix": "del ",
     "library": "var_list.py",
     "varRefreshCmd": "print(var_dic_list())"
    },
    "r": {
     "delete_cmd_postfix": ") ",
     "delete_cmd_prefix": "rm(",
     "library": "var_list.r",
     "varRefreshCmd": "cat(var_dic_list()) "
    }
   },
   "types_to_exclude": [
    "module",
    "function",
    "builtin_function_or_method",
    "instance",
    "_Feature"
   ],
   "window_display": false
  }
 },
 "nbformat": 4,
 "nbformat_minor": 2
}
