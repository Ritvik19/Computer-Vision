{
 "cells": [
  {
   "cell_type": "markdown",
   "metadata": {},
   "source": [
    "https://www.kaggle.com/c/text-normalization-challenge-english-language"
   ]
  },
  {
   "cell_type": "markdown",
   "metadata": {
    "ExecuteTime": {
     "end_time": "2019-07-07T06:20:15.310026Z",
     "start_time": "2019-07-07T06:20:15.305038Z"
    }
   },
   "source": [
    "# Libraries"
   ]
  },
  {
   "cell_type": "code",
   "execution_count": 1,
   "metadata": {
    "ExecuteTime": {
     "end_time": "2019-07-07T06:22:40.462406Z",
     "start_time": "2019-07-07T06:22:38.872465Z"
    }
   },
   "outputs": [],
   "source": [
    "import numpy as np\n",
    "import pandas as pd\n",
    "import matplotlib.pyplot as plt\n",
    "import seaborn as sns"
   ]
  },
  {
   "cell_type": "code",
   "execution_count": 54,
   "metadata": {
    "ExecuteTime": {
     "end_time": "2019-07-07T06:57:35.829314Z",
     "start_time": "2019-07-07T06:57:35.820342Z"
    }
   },
   "outputs": [],
   "source": [
    "%matplotlib inline\n",
    "pd.options.display.max_columns = 20\n",
    "pd.options.display.max_colwidth = -1"
   ]
  },
  {
   "cell_type": "code",
   "execution_count": 25,
   "metadata": {
    "ExecuteTime": {
     "end_time": "2019-07-07T06:37:15.805514Z",
     "start_time": "2019-07-07T06:37:15.580608Z"
    }
   },
   "outputs": [],
   "source": [
    "from tqdm import tqdm\n",
    "from IPython.display import clear_output"
   ]
  },
  {
   "cell_type": "code",
   "execution_count": 67,
   "metadata": {
    "ExecuteTime": {
     "end_time": "2019-07-07T07:08:37.070732Z",
     "start_time": "2019-07-07T07:08:37.066742Z"
    }
   },
   "outputs": [],
   "source": [
    "from ipywidgets import interact"
   ]
  },
  {
   "cell_type": "code",
   "execution_count": null,
   "metadata": {},
   "outputs": [],
   "source": [
    "import inflect\n",
    "from num2words import num2words \n",
    "import re"
   ]
  },
  {
   "cell_type": "markdown",
   "metadata": {},
   "source": [
    "# Data"
   ]
  },
  {
   "cell_type": "code",
   "execution_count": 3,
   "metadata": {
    "ExecuteTime": {
     "end_time": "2019-07-07T06:23:37.674576Z",
     "start_time": "2019-07-07T06:23:20.264772Z"
    }
   },
   "outputs": [],
   "source": [
    "data = pd.read_csv('../text-normalization-challenge-english-language/en_train.csv')"
   ]
  },
  {
   "cell_type": "code",
   "execution_count": 4,
   "metadata": {
    "ExecuteTime": {
     "end_time": "2019-07-07T06:23:38.449574Z",
     "start_time": "2019-07-07T06:23:38.343857Z"
    },
    "cell_style": "split"
   },
   "outputs": [
    {
     "data": {
      "text/html": [
       "<div>\n",
       "<style scoped>\n",
       "    .dataframe tbody tr th:only-of-type {\n",
       "        vertical-align: middle;\n",
       "    }\n",
       "\n",
       "    .dataframe tbody tr th {\n",
       "        vertical-align: top;\n",
       "    }\n",
       "\n",
       "    .dataframe thead th {\n",
       "        text-align: right;\n",
       "    }\n",
       "</style>\n",
       "<table border=\"1\" class=\"dataframe\">\n",
       "  <thead>\n",
       "    <tr style=\"text-align: right;\">\n",
       "      <th></th>\n",
       "      <th>sentence_id</th>\n",
       "      <th>token_id</th>\n",
       "      <th>class</th>\n",
       "      <th>before</th>\n",
       "      <th>after</th>\n",
       "    </tr>\n",
       "  </thead>\n",
       "  <tbody>\n",
       "    <tr>\n",
       "      <th>0</th>\n",
       "      <td>0</td>\n",
       "      <td>0</td>\n",
       "      <td>PLAIN</td>\n",
       "      <td>Brillantaisia</td>\n",
       "      <td>Brillantaisia</td>\n",
       "    </tr>\n",
       "    <tr>\n",
       "      <th>1</th>\n",
       "      <td>0</td>\n",
       "      <td>1</td>\n",
       "      <td>PLAIN</td>\n",
       "      <td>is</td>\n",
       "      <td>is</td>\n",
       "    </tr>\n",
       "    <tr>\n",
       "      <th>2</th>\n",
       "      <td>0</td>\n",
       "      <td>2</td>\n",
       "      <td>PLAIN</td>\n",
       "      <td>a</td>\n",
       "      <td>a</td>\n",
       "    </tr>\n",
       "    <tr>\n",
       "      <th>3</th>\n",
       "      <td>0</td>\n",
       "      <td>3</td>\n",
       "      <td>PLAIN</td>\n",
       "      <td>genus</td>\n",
       "      <td>genus</td>\n",
       "    </tr>\n",
       "    <tr>\n",
       "      <th>4</th>\n",
       "      <td>0</td>\n",
       "      <td>4</td>\n",
       "      <td>PLAIN</td>\n",
       "      <td>of</td>\n",
       "      <td>of</td>\n",
       "    </tr>\n",
       "  </tbody>\n",
       "</table>\n",
       "</div>"
      ],
      "text/plain": [
       "   sentence_id  token_id  class         before          after\n",
       "0  0            0         PLAIN  Brillantaisia  Brillantaisia\n",
       "1  0            1         PLAIN  is             is           \n",
       "2  0            2         PLAIN  a              a            \n",
       "3  0            3         PLAIN  genus          genus        \n",
       "4  0            4         PLAIN  of             of           "
      ]
     },
     "execution_count": 4,
     "metadata": {},
     "output_type": "execute_result"
    }
   ],
   "source": [
    "data.head()"
   ]
  },
  {
   "cell_type": "code",
   "execution_count": 14,
   "metadata": {
    "ExecuteTime": {
     "end_time": "2019-07-07T06:30:01.543171Z",
     "start_time": "2019-07-07T06:30:01.533201Z"
    },
    "cell_style": "split"
   },
   "outputs": [
    {
     "name": "stdout",
     "output_type": "stream",
     "text": [
      "(9918441, 5)\n",
      "<class 'pandas.core.frame.DataFrame'>\n",
      "RangeIndex: 9918441 entries, 0 to 9918440\n",
      "Data columns (total 5 columns):\n",
      "sentence_id    int64\n",
      "token_id       int64\n",
      "class          object\n",
      "before         object\n",
      "after          object\n",
      "dtypes: int64(2), object(3)\n",
      "memory usage: 378.4+ MB\n",
      "None\n"
     ]
    }
   ],
   "source": [
    "print(data.shape)\n",
    "print(data.info())"
   ]
  },
  {
   "cell_type": "markdown",
   "metadata": {},
   "source": [
    "# EDA"
   ]
  },
  {
   "cell_type": "markdown",
   "metadata": {
    "ExecuteTime": {
     "end_time": "2019-07-07T06:24:26.027999Z",
     "start_time": "2019-07-07T06:24:26.022015Z"
    },
    "cell_style": "center"
   },
   "source": [
    "**Class Distribution**"
   ]
  },
  {
   "cell_type": "code",
   "execution_count": 20,
   "metadata": {
    "ExecuteTime": {
     "end_time": "2019-07-07T06:32:40.088151Z",
     "start_time": "2019-07-07T06:32:37.688291Z"
    },
    "cell_style": "center"
   },
   "outputs": [
    {
     "data": {
      "image/png": "[encoded data removed]",
      "text/plain": [
       "<Figure size 1152x576 with 1 Axes>"
      ]
     },
     "metadata": {
      "needs_background": "light"
     },
     "output_type": "display_data"
    }
   ],
   "source": [
    "fig, ax = plt.subplots(ncols=1, nrows=1, figsize=(16,8))\n",
    "data['class'].value_counts().plot.bar()\n",
    "for p in ax.patches:\n",
    "    ax.annotate(str(p.get_height()), (p.get_x() * 1.005, p.get_height() * 1.01))"
   ]
  },
  {
   "cell_type": "markdown",
   "metadata": {
    "ExecuteTime": {
     "end_time": "2019-07-07T06:33:19.732449Z",
     "start_time": "2019-07-07T06:33:19.726466Z"
    }
   },
   "source": [
    "**Unchanged Columns**"
   ]
  },
  {
   "cell_type": "code",
   "execution_count": 26,
   "metadata": {
    "ExecuteTime": {
     "end_time": "2019-07-07T06:43:55.647750Z",
     "start_time": "2019-07-07T06:37:19.080924Z"
    }
   },
   "outputs": [
    {
     "name": "stderr",
     "output_type": "stream",
     "text": [
      "100%|█████████████████████████████████████████████████████████████████████| 9918441/9918441 [06:35<00:00, 25063.18it/s]\n"
     ]
    }
   ],
   "source": [
    "tqdm.pandas()\n",
    "data['Unchanged'] = data[['before', 'after']].progress_apply(lambda x: int(x['before'] == x['after']), axis=1)"
   ]
  },
  {
   "cell_type": "code",
   "execution_count": 35,
   "metadata": {
    "ExecuteTime": {
     "end_time": "2019-07-07T06:48:24.910955Z",
     "start_time": "2019-07-07T06:48:24.905969Z"
    }
   },
   "outputs": [],
   "source": [
    "unchanged = pd.DataFrame()"
   ]
  },
  {
   "cell_type": "code",
   "execution_count": 62,
   "metadata": {
    "ExecuteTime": {
     "end_time": "2019-07-07T07:00:09.513844Z",
     "start_time": "2019-07-07T06:59:50.881088Z"
    }
   },
   "outputs": [
    {
     "name": "stderr",
     "output_type": "stream",
     "text": [
      "100%|██████████████████████████████████████████████████████████████████████████████████| 16/16 [00:18<00:00,  1.08s/it]\n"
     ]
    }
   ],
   "source": [
    "for c in tqdm(data['class'].unique()):\n",
    "    x = data[data['class']==c]['Unchanged'].sum()\n",
    "    unchanged[c] = [x, 9918441-x, (100*x)/9918441]\n",
    "    unchanged[c] = unchanged[c].apply(lambda x : \"{:.2f}\".format(x))\n",
    "unchanged.index=['1', '0', '%']"
   ]
  },
  {
   "cell_type": "code",
   "execution_count": 63,
   "metadata": {
    "ExecuteTime": {
     "end_time": "2019-07-07T07:00:09.770133Z",
     "start_time": "2019-07-07T07:00:09.732235Z"
    }
   },
   "outputs": [
    {
     "data": {
      "text/html": [
       "<div>\n",
       "<style scoped>\n",
       "    .dataframe tbody tr th:only-of-type {\n",
       "        vertical-align: middle;\n",
       "    }\n",
       "\n",
       "    .dataframe tbody tr th {\n",
       "        vertical-align: top;\n",
       "    }\n",
       "\n",
       "    .dataframe thead th {\n",
       "        text-align: right;\n",
       "    }\n",
       "</style>\n",
       "<table border=\"1\" class=\"dataframe\">\n",
       "  <thead>\n",
       "    <tr style=\"text-align: right;\">\n",
       "      <th></th>\n",
       "      <th>PLAIN</th>\n",
       "      <th>PUNCT</th>\n",
       "      <th>DATE</th>\n",
       "      <th>LETTERS</th>\n",
       "      <th>CARDINAL</th>\n",
       "      <th>VERBATIM</th>\n",
       "      <th>DECIMAL</th>\n",
       "      <th>MEASURE</th>\n",
       "      <th>MONEY</th>\n",
       "      <th>ORDINAL</th>\n",
       "      <th>TIME</th>\n",
       "      <th>ELECTRONIC</th>\n",
       "      <th>DIGIT</th>\n",
       "      <th>FRACTION</th>\n",
       "      <th>TELEPHONE</th>\n",
       "      <th>ADDRESS</th>\n",
       "    </tr>\n",
       "  </thead>\n",
       "  <tbody>\n",
       "    <tr>\n",
       "      <th>1</th>\n",
       "      <td>7317152.00</td>\n",
       "      <td>1880507.00</td>\n",
       "      <td>0.00</td>\n",
       "      <td>8426.00</td>\n",
       "      <td>0.00</td>\n",
       "      <td>52271.00</td>\n",
       "      <td>0.00</td>\n",
       "      <td>22.00</td>\n",
       "      <td>3.00</td>\n",
       "      <td>0.00</td>\n",
       "      <td>0.00</td>\n",
       "      <td>198.00</td>\n",
       "      <td>0.00</td>\n",
       "      <td>0.00</td>\n",
       "      <td>0.00</td>\n",
       "      <td>0.00</td>\n",
       "    </tr>\n",
       "    <tr>\n",
       "      <th>0</th>\n",
       "      <td>2601289.00</td>\n",
       "      <td>8037934.00</td>\n",
       "      <td>9918441.00</td>\n",
       "      <td>9910015.00</td>\n",
       "      <td>9918441.00</td>\n",
       "      <td>9866170.00</td>\n",
       "      <td>9918441.00</td>\n",
       "      <td>9918419.00</td>\n",
       "      <td>9918438.00</td>\n",
       "      <td>9918441.00</td>\n",
       "      <td>9918441.00</td>\n",
       "      <td>9918243.00</td>\n",
       "      <td>9918441.00</td>\n",
       "      <td>9918441.00</td>\n",
       "      <td>9918441.00</td>\n",
       "      <td>9918441.00</td>\n",
       "    </tr>\n",
       "    <tr>\n",
       "      <th>%</th>\n",
       "      <td>73.77</td>\n",
       "      <td>18.96</td>\n",
       "      <td>0.00</td>\n",
       "      <td>0.08</td>\n",
       "      <td>0.00</td>\n",
       "      <td>0.53</td>\n",
       "      <td>0.00</td>\n",
       "      <td>0.00</td>\n",
       "      <td>0.00</td>\n",
       "      <td>0.00</td>\n",
       "      <td>0.00</td>\n",
       "      <td>0.00</td>\n",
       "      <td>0.00</td>\n",
       "      <td>0.00</td>\n",
       "      <td>0.00</td>\n",
       "      <td>0.00</td>\n",
       "    </tr>\n",
       "  </tbody>\n",
       "</table>\n",
       "</div>"
      ],
      "text/plain": [
       "        PLAIN       PUNCT        DATE     LETTERS    CARDINAL    VERBATIM  \\\n",
       "1  7317152.00  1880507.00  0.00        8426.00     0.00        52271.00     \n",
       "0  2601289.00  8037934.00  9918441.00  9910015.00  9918441.00  9866170.00   \n",
       "%  73.77       18.96       0.00        0.08        0.00        0.53         \n",
       "\n",
       "      DECIMAL     MEASURE       MONEY     ORDINAL        TIME  ELECTRONIC  \\\n",
       "1  0.00        22.00       3.00        0.00        0.00        198.00       \n",
       "0  9918441.00  9918419.00  9918438.00  9918441.00  9918441.00  9918243.00   \n",
       "%  0.00        0.00        0.00        0.00        0.00        0.00         \n",
       "\n",
       "        DIGIT    FRACTION   TELEPHONE     ADDRESS  \n",
       "1  0.00        0.00        0.00        0.00        \n",
       "0  9918441.00  9918441.00  9918441.00  9918441.00  \n",
       "%  0.00        0.00        0.00        0.00        "
      ]
     },
     "execution_count": 63,
     "metadata": {},
     "output_type": "execute_result"
    }
   ],
   "source": [
    "unchanged.head()"
   ]
  },
  {
   "cell_type": "markdown",
   "metadata": {},
   "source": [
    "**Classes**"
   ]
  },
  {
   "cell_type": "code",
   "execution_count": 70,
   "metadata": {
    "ExecuteTime": {
     "end_time": "2019-07-07T07:09:11.493213Z",
     "start_time": "2019-07-07T07:09:08.614219Z"
    }
   },
   "outputs": [
    {
     "data": {
      "application/vnd.jupyter.widget-view+json": {
       "model_id": "aa0c7686b9c64809a75d109cfe816e21",
       "version_major": 2,
       "version_minor": 0
      },
      "text/plain": [
       "interactive(children=(Dropdown(description='c', options=('PLAIN', 'PUNCT', 'DATE', 'LETTERS', 'CARDINAL', 'VER…"
      ]
     },
     "metadata": {},
     "output_type": "display_data"
    }
   ],
   "source": [
    "@interact\n",
    "def sneak(c=data['class'].unique()):\n",
    "    return data[data['class'] == c][['before', 'after']].head()"
   ]
  },
  {
   "cell_type": "code",
   "execution_count": null,
   "metadata": {},
   "outputs": [],
   "source": []
  }
 ],
 "metadata": {
  "kernelspec": {
   "display_name": "Python 3",
   "language": "python",
   "name": "python3"
  },
  "language_info": {
   "codemirror_mode": {
    "name": "ipython",
    "version": 3
   },
   "file_extension": ".py",
   "mimetype": "text/x-python",
   "name": "python",
   "nbconvert_exporter": "python",
   "pygments_lexer": "ipython3",
   "version": "3.7.3"
  },
  "toc": {
   "base_numbering": 1,
   "nav_menu": {},
   "number_sections": true,
   "sideBar": true,
   "skip_h1_title": false,
   "title_cell": "Table of Contents",
   "title_sidebar": "Contents",
   "toc_cell": false,
   "toc_position": {},
   "toc_section_display": true,
   "toc_window_display": false
  },
  "varInspector": {
   "cols": {
    "lenName": 16,
    "lenType": 16,
    "lenVar": 40
   },
   "kernels_config": {
    "python": {
     "delete_cmd_postfix": "",
     "delete_cmd_prefix": "del ",
     "library": "var_list.py",
     "varRefreshCmd": "print(var_dic_list())"
    },
    "r": {
     "delete_cmd_postfix": ") ",
     "delete_cmd_prefix": "rm(",
     "library": "var_list.r",
     "varRefreshCmd": "cat(var_dic_list()) "
    }
   },
   "types_to_exclude": [
    "module",
    "function",
    "builtin_function_or_method",
    "instance",
    "_Feature"
   ],
   "window_display": false
  }
 },
 "nbformat": 4,
 "nbformat_minor": 2
}
